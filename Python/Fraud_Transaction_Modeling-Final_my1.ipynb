{
 "cells": [
  {
   "cell_type": "markdown",
   "id": "e65fb9b1",
   "metadata": {},
   "source": [
    "## PROJECT WORK\n",
    "\n",
    "# PART 2- DATA MODELING\n",
    "\n",
    "## Fraudulent Transactions Prediction\n",
    "\n",
    "<img src=\"fraud-900.jpg\" style=\"max-width:800px\">\n",
    "\n",
    "## Import Libraries"
   ]
  },
  {
   "cell_type": "code",
   "execution_count": 18,
   "id": "31102405",
   "metadata": {
    "ExecuteTime": {
     "end_time": "2022-07-27T22:03:24.403294Z",
     "start_time": "2022-07-27T22:03:24.378362Z"
    }
   },
   "outputs": [],
   "source": [
    "# Ignore warnings\n",
    "import warnings\n",
    "warnings.filterwarnings('ignore')\n",
    "\n",
    "# Handle table-like data and matrices\n",
    "import numpy as np\n",
    "import pandas as pd\n",
    "from scipy import stats\n",
    "from scipy.stats import boxcox\n",
    "\n",
    "# Visualisation\n",
    "import matplotlib.pyplot as plt\n",
    "from matplotlib import pyplot\n",
    "import seaborn as sns\n",
    "from xgboost import plot_importance, to_graphviz\n",
    "from xgboost import plot_tree\n",
    "from matplotlib import pyplot\n",
    "\n",
    "# For Data Splitting\n",
    "from sklearn.model_selection import train_test_split\n",
    "from sklearn.preprocessing import StandardScaler\n",
    "from sklearn.preprocessing import PowerTransformer\n",
    "from sklearn.preprocessing import MinMaxScaler\n",
    "from sklearn.pipeline import Pipeline\n",
    "from sklearn.metrics import roc_curve,roc_auc_score\n",
    "\n",
    "#For Model Acuracy\n",
    "from sklearn import metrics\n",
    "from sklearn.metrics import precision_score\n",
    "from sklearn.metrics import recall_score\n",
    "from sklearn.metrics import f1_score\n",
    "from sklearn.metrics import accuracy_score\n",
    "from xgboost import plot_importance, to_graphviz #\n",
    "from sklearn.metrics import classification_report\n",
    "from yellowbrick.classifier import PrecisionRecallCurve\n",
    "\n",
    "#For Model Building\n",
    "from sklearn.linear_model import LogisticRegression\n",
    "from sklearn.tree import DecisionTreeClassifier\n",
    "from sklearn.ensemble import RandomForestClassifier\n",
    "from xgboost.sklearn import XGBClassifier\n",
    "from sklearn.ensemble import GradientBoostingClassifier\n",
    "#For Neural\n",
    "from keras.models import Sequential\n",
    "from keras.layers import Dense\n",
    "from keras.wrappers.scikit_learn import KerasClassifier\n",
    "from keras.callbacks import EarlyStopping\n",
    "from sklearn.ensemble import AdaBoostClassifier\n",
    "\n",
    "# To handle class imbalance problem\n",
    "from imblearn.over_sampling import SMOTE\n",
    "\n",
    "# Configure visualisations\n",
    "%matplotlib inline\n",
    "\n",
    "#For Information Value & WOE\n",
    "import os\n",
    "import gc\n",
    "import time\n",
    "import psutil\n",
    "import numpy as np\n",
    "import pandas as pd\n",
    "import random as rn\n",
    "import seaborn as sns\n",
    "\n",
    "from tqdm import tqdm\n",
    "from matplotlib import pyplot as plt\n",
    "from contextlib import contextmanager\n",
    "\n",
    "rn.seed(5)\n",
    "np.random.seed(7)\n",
    "os.environ['PYTHONHASHSEED'] = '3'\n",
    "\n",
    "#For Learning Curve\n",
    "from yellowbrick.model_selection import learning_curve\n"
   ]
  },
  {
   "cell_type": "markdown",
   "id": "20fc683a",
   "metadata": {},
   "source": [
    "## Load Data"
   ]
  },
  {
   "cell_type": "code",
   "execution_count": 2,
   "id": "054f5736",
   "metadata": {
    "ExecuteTime": {
     "end_time": "2022-07-27T21:44:02.594124Z",
     "start_time": "2022-07-27T21:43:00.100305Z"
    }
   },
   "outputs": [
    {
     "data": {
      "text/html": [
       "<div>\n",
       "<style scoped>\n",
       "    .dataframe tbody tr th:only-of-type {\n",
       "        vertical-align: middle;\n",
       "    }\n",
       "\n",
       "    .dataframe tbody tr th {\n",
       "        vertical-align: top;\n",
       "    }\n",
       "\n",
       "    .dataframe thead th {\n",
       "        text-align: right;\n",
       "    }\n",
       "</style>\n",
       "<table border=\"1\" class=\"dataframe\">\n",
       "  <thead>\n",
       "    <tr style=\"text-align: right;\">\n",
       "      <th></th>\n",
       "      <th>step</th>\n",
       "      <th>amount</th>\n",
       "      <th>oldbalanceOrg</th>\n",
       "      <th>newbalanceOrig</th>\n",
       "      <th>oldbalanceDest</th>\n",
       "      <th>newbalanceDest</th>\n",
       "      <th>bal_diff_orig</th>\n",
       "      <th>bal_diff_dest</th>\n",
       "      <th>typeId</th>\n",
       "      <th>day</th>\n",
       "      <th>weekday</th>\n",
       "      <th>sin_hour</th>\n",
       "      <th>cos_hour</th>\n",
       "      <th>sin_weekday</th>\n",
       "      <th>cos_weekday</th>\n",
       "      <th>Fraud_checkId</th>\n",
       "      <th>hour</th>\n",
       "    </tr>\n",
       "  </thead>\n",
       "  <tbody>\n",
       "    <tr>\n",
       "      <th>0</th>\n",
       "      <td>1</td>\n",
       "      <td>9839.64</td>\n",
       "      <td>170136.00</td>\n",
       "      <td>160296.36</td>\n",
       "      <td>0.00</td>\n",
       "      <td>0.00</td>\n",
       "      <td>9839.64</td>\n",
       "      <td>0.00</td>\n",
       "      <td>0</td>\n",
       "      <td>0</td>\n",
       "      <td>0</td>\n",
       "      <td>0.004363</td>\n",
       "      <td>0.999990</td>\n",
       "      <td>0.000000</td>\n",
       "      <td>1.000000</td>\n",
       "      <td>False</td>\n",
       "      <td>0</td>\n",
       "    </tr>\n",
       "    <tr>\n",
       "      <th>1</th>\n",
       "      <td>1</td>\n",
       "      <td>1864.28</td>\n",
       "      <td>21249.00</td>\n",
       "      <td>19384.72</td>\n",
       "      <td>0.00</td>\n",
       "      <td>0.00</td>\n",
       "      <td>1864.28</td>\n",
       "      <td>0.00</td>\n",
       "      <td>0</td>\n",
       "      <td>0</td>\n",
       "      <td>0</td>\n",
       "      <td>0.004363</td>\n",
       "      <td>0.999990</td>\n",
       "      <td>0.000000</td>\n",
       "      <td>1.000000</td>\n",
       "      <td>False</td>\n",
       "      <td>0</td>\n",
       "    </tr>\n",
       "    <tr>\n",
       "      <th>2</th>\n",
       "      <td>1</td>\n",
       "      <td>181.00</td>\n",
       "      <td>181.00</td>\n",
       "      <td>0.00</td>\n",
       "      <td>0.00</td>\n",
       "      <td>0.00</td>\n",
       "      <td>181.00</td>\n",
       "      <td>0.00</td>\n",
       "      <td>1</td>\n",
       "      <td>0</td>\n",
       "      <td>0</td>\n",
       "      <td>0.004363</td>\n",
       "      <td>0.999990</td>\n",
       "      <td>0.000000</td>\n",
       "      <td>1.000000</td>\n",
       "      <td>True</td>\n",
       "      <td>0</td>\n",
       "    </tr>\n",
       "    <tr>\n",
       "      <th>3</th>\n",
       "      <td>1</td>\n",
       "      <td>181.00</td>\n",
       "      <td>181.00</td>\n",
       "      <td>0.00</td>\n",
       "      <td>21182.00</td>\n",
       "      <td>0.00</td>\n",
       "      <td>181.00</td>\n",
       "      <td>21182.00</td>\n",
       "      <td>2</td>\n",
       "      <td>0</td>\n",
       "      <td>0</td>\n",
       "      <td>0.004363</td>\n",
       "      <td>0.999990</td>\n",
       "      <td>0.000000</td>\n",
       "      <td>1.000000</td>\n",
       "      <td>True</td>\n",
       "      <td>0</td>\n",
       "    </tr>\n",
       "    <tr>\n",
       "      <th>4</th>\n",
       "      <td>1</td>\n",
       "      <td>11668.14</td>\n",
       "      <td>41554.00</td>\n",
       "      <td>29885.86</td>\n",
       "      <td>0.00</td>\n",
       "      <td>0.00</td>\n",
       "      <td>11668.14</td>\n",
       "      <td>0.00</td>\n",
       "      <td>0</td>\n",
       "      <td>0</td>\n",
       "      <td>0</td>\n",
       "      <td>0.004363</td>\n",
       "      <td>0.999990</td>\n",
       "      <td>0.000000</td>\n",
       "      <td>1.000000</td>\n",
       "      <td>False</td>\n",
       "      <td>0</td>\n",
       "    </tr>\n",
       "    <tr>\n",
       "      <th>...</th>\n",
       "      <td>...</td>\n",
       "      <td>...</td>\n",
       "      <td>...</td>\n",
       "      <td>...</td>\n",
       "      <td>...</td>\n",
       "      <td>...</td>\n",
       "      <td>...</td>\n",
       "      <td>...</td>\n",
       "      <td>...</td>\n",
       "      <td>...</td>\n",
       "      <td>...</td>\n",
       "      <td>...</td>\n",
       "      <td>...</td>\n",
       "      <td>...</td>\n",
       "      <td>...</td>\n",
       "      <td>...</td>\n",
       "      <td>...</td>\n",
       "    </tr>\n",
       "    <tr>\n",
       "      <th>6362615</th>\n",
       "      <td>743</td>\n",
       "      <td>339682.13</td>\n",
       "      <td>339682.13</td>\n",
       "      <td>0.00</td>\n",
       "      <td>0.00</td>\n",
       "      <td>339682.13</td>\n",
       "      <td>339682.13</td>\n",
       "      <td>339682.13</td>\n",
       "      <td>2</td>\n",
       "      <td>30</td>\n",
       "      <td>4</td>\n",
       "      <td>-0.100188</td>\n",
       "      <td>-0.994969</td>\n",
       "      <td>0.069756</td>\n",
       "      <td>0.997564</td>\n",
       "      <td>True</td>\n",
       "      <td>1</td>\n",
       "    </tr>\n",
       "    <tr>\n",
       "      <th>6362616</th>\n",
       "      <td>743</td>\n",
       "      <td>6311409.28</td>\n",
       "      <td>6311409.28</td>\n",
       "      <td>0.00</td>\n",
       "      <td>0.00</td>\n",
       "      <td>0.00</td>\n",
       "      <td>6311409.28</td>\n",
       "      <td>0.00</td>\n",
       "      <td>1</td>\n",
       "      <td>30</td>\n",
       "      <td>4</td>\n",
       "      <td>-0.100188</td>\n",
       "      <td>-0.994969</td>\n",
       "      <td>0.069756</td>\n",
       "      <td>0.997564</td>\n",
       "      <td>True</td>\n",
       "      <td>1</td>\n",
       "    </tr>\n",
       "    <tr>\n",
       "      <th>6362617</th>\n",
       "      <td>743</td>\n",
       "      <td>6311409.28</td>\n",
       "      <td>6311409.28</td>\n",
       "      <td>0.00</td>\n",
       "      <td>68488.84</td>\n",
       "      <td>6379898.11</td>\n",
       "      <td>6311409.28</td>\n",
       "      <td>6311409.27</td>\n",
       "      <td>2</td>\n",
       "      <td>30</td>\n",
       "      <td>4</td>\n",
       "      <td>-0.100188</td>\n",
       "      <td>-0.994969</td>\n",
       "      <td>0.069756</td>\n",
       "      <td>0.997564</td>\n",
       "      <td>True</td>\n",
       "      <td>1</td>\n",
       "    </tr>\n",
       "    <tr>\n",
       "      <th>6362618</th>\n",
       "      <td>743</td>\n",
       "      <td>850002.52</td>\n",
       "      <td>850002.52</td>\n",
       "      <td>0.00</td>\n",
       "      <td>0.00</td>\n",
       "      <td>0.00</td>\n",
       "      <td>850002.52</td>\n",
       "      <td>0.00</td>\n",
       "      <td>1</td>\n",
       "      <td>30</td>\n",
       "      <td>4</td>\n",
       "      <td>-0.100188</td>\n",
       "      <td>-0.994969</td>\n",
       "      <td>0.069756</td>\n",
       "      <td>0.997564</td>\n",
       "      <td>True</td>\n",
       "      <td>1</td>\n",
       "    </tr>\n",
       "    <tr>\n",
       "      <th>6362619</th>\n",
       "      <td>743</td>\n",
       "      <td>850002.52</td>\n",
       "      <td>850002.52</td>\n",
       "      <td>0.00</td>\n",
       "      <td>6510099.11</td>\n",
       "      <td>7360101.63</td>\n",
       "      <td>850002.52</td>\n",
       "      <td>850002.52</td>\n",
       "      <td>2</td>\n",
       "      <td>30</td>\n",
       "      <td>4</td>\n",
       "      <td>-0.100188</td>\n",
       "      <td>-0.994969</td>\n",
       "      <td>0.069756</td>\n",
       "      <td>0.997564</td>\n",
       "      <td>True</td>\n",
       "      <td>1</td>\n",
       "    </tr>\n",
       "  </tbody>\n",
       "</table>\n",
       "<p>6362620 rows × 17 columns</p>\n",
       "</div>"
      ],
      "text/plain": [
       "         step      amount  oldbalanceOrg  newbalanceOrig  oldbalanceDest  \\\n",
       "0           1     9839.64      170136.00       160296.36            0.00   \n",
       "1           1     1864.28       21249.00        19384.72            0.00   \n",
       "2           1      181.00         181.00            0.00            0.00   \n",
       "3           1      181.00         181.00            0.00        21182.00   \n",
       "4           1    11668.14       41554.00        29885.86            0.00   \n",
       "...       ...         ...            ...             ...             ...   \n",
       "6362615   743   339682.13      339682.13            0.00            0.00   \n",
       "6362616   743  6311409.28     6311409.28            0.00            0.00   \n",
       "6362617   743  6311409.28     6311409.28            0.00        68488.84   \n",
       "6362618   743   850002.52      850002.52            0.00            0.00   \n",
       "6362619   743   850002.52      850002.52            0.00      6510099.11   \n",
       "\n",
       "         newbalanceDest  bal_diff_orig  bal_diff_dest  typeId  day  weekday  \\\n",
       "0                  0.00        9839.64           0.00       0    0        0   \n",
       "1                  0.00        1864.28           0.00       0    0        0   \n",
       "2                  0.00         181.00           0.00       1    0        0   \n",
       "3                  0.00         181.00       21182.00       2    0        0   \n",
       "4                  0.00       11668.14           0.00       0    0        0   \n",
       "...                 ...            ...            ...     ...  ...      ...   \n",
       "6362615       339682.13      339682.13      339682.13       2   30        4   \n",
       "6362616            0.00     6311409.28           0.00       1   30        4   \n",
       "6362617      6379898.11     6311409.28     6311409.27       2   30        4   \n",
       "6362618            0.00      850002.52           0.00       1   30        4   \n",
       "6362619      7360101.63      850002.52      850002.52       2   30        4   \n",
       "\n",
       "         sin_hour  cos_hour  sin_weekday  cos_weekday  Fraud_checkId  hour  \n",
       "0        0.004363  0.999990     0.000000     1.000000          False     0  \n",
       "1        0.004363  0.999990     0.000000     1.000000          False     0  \n",
       "2        0.004363  0.999990     0.000000     1.000000           True     0  \n",
       "3        0.004363  0.999990     0.000000     1.000000           True     0  \n",
       "4        0.004363  0.999990     0.000000     1.000000          False     0  \n",
       "...           ...       ...          ...          ...            ...   ...  \n",
       "6362615 -0.100188 -0.994969     0.069756     0.997564           True     1  \n",
       "6362616 -0.100188 -0.994969     0.069756     0.997564           True     1  \n",
       "6362617 -0.100188 -0.994969     0.069756     0.997564           True     1  \n",
       "6362618 -0.100188 -0.994969     0.069756     0.997564           True     1  \n",
       "6362619 -0.100188 -0.994969     0.069756     0.997564           True     1  \n",
       "\n",
       "[6362620 rows x 17 columns]"
      ]
     },
     "execution_count": 2,
     "metadata": {},
     "output_type": "execute_result"
    }
   ],
   "source": [
    "dataset_2= pd.read_csv('new_fraud_dataframe_modeling.csv')\n",
    "dataset_2.drop(['Unnamed: 0'], axis=1, inplace=True)\n",
    "dataset_2"
   ]
  },
  {
   "cell_type": "markdown",
   "id": "4ceaefcf",
   "metadata": {},
   "source": [
    "# WEIGHT OF EVIDENCE (WOE) AND INFORMATION VALUE (IV) \n",
    "\n",
    "### Importance of Feature Selection\n",
    "In this digital era, we are equipped with a humongous amount of data. However, not all features available to us are useful in every model prediction. Choosing the right features for our model is of utmost importance. Features are selected based on the predictive strength of the feature. We can quantify the predictive power of a feature using the concept of information value. \n",
    "\n",
    "### What is Weight of Evidence (WOE)?\n",
    "The weight of evidence tells the predictive power of an independent variable in relation to the dependent variable.The weight of evidence tells the predictive power of a single feature concerning its independent feature. If any of the categories/bins of a feature has a large proportion of events compared to the proportion of non-events, we will get a high value of WoE which in turn says that that class of the feature separates the events from non-events.\n",
    "- 1. WoE values for the various categories of a categorical variable can be used to impute a categorical feature and convert it into a numerical feature.\n",
    "- if a continuous feature does not have a linear relationship with the log odds, the feature can be binned into groups and a new feature created by replaced each bin with its WoE value can be used instead of the original feature.\n",
    "- WoE is better than one-hot encoding as one-hot encoding will need you to create h-1 new features to accommodate one categorical feature with h categories. This implies that the model will not have to predict h-1 coefficients (bi) instead of 1. However, in WoE variable transformation, we will need to calculate a single coefficient for the feature in consideration.\n",
    "\n",
    "The formula to calculate the weight of evidence for any feature is given by\n",
    "\n",
    "<img src=\"66585IV.jpg\" style=\"max-width:800px\">\n",
    "\n",
    "### What is Information Value (IV)?\n",
    "The WoE value, the WoE value tells us the predictive power of each bin of a feature. However, a single value representing the entire feature’s predictive power will be useful in feature selection. Note that the term (percentage of events – the percentage of non-events) follows the same sign as WoE hence ensuring that the IV is always a positive number.\n",
    "The equation for IV is\n",
    "\n",
    "<img src=\"30208woe.jpg\" style=\"max-width:800px\">\n",
    "\n",
    "<img src=\"Screenshot 2022-07-14 121016.jpg\" style=\"max-width:800px\">\n",
    "\n",
    "## Conclusion\n",
    "1. WoE helps check the linear relationship of a feature with its dependent feature to be used in the model.\n",
    "2. WoE is a good variable transformation method for both continuous and categorical features.\n",
    "3. WoE is better than on-hot encoding as this method of variable transformation does not increase the complexity of the model.\n",
    "4. IV is a good measure of the predictive power of a feature and it also helps point out the suspicious feature.\n"
   ]
  },
  {
   "cell_type": "code",
   "execution_count": 5,
   "id": "bd134f81",
   "metadata": {
    "ExecuteTime": {
     "end_time": "2022-07-27T11:26:27.689140Z",
     "start_time": "2022-07-27T11:26:27.181119Z"
    }
   },
   "outputs": [
    {
     "name": "stdout",
     "output_type": "stream",
     "text": [
      "X Shape: (6362620, 16)\n",
      "y Shape: (6362620,)\n"
     ]
    }
   ],
   "source": [
    "# Data Split for Predictors and Target\n",
    "X = dataset_2.drop(['Fraud_checkId'], axis = 1)\n",
    "y = dataset_2['Fraud_checkId']\n",
    "\n",
    "print('X Shape:', X.shape)\n",
    "print('y Shape:', y.shape)"
   ]
  },
  {
   "cell_type": "code",
   "execution_count": 6,
   "id": "b70781a7",
   "metadata": {
    "ExecuteTime": {
     "end_time": "2022-07-27T11:26:31.450629Z",
     "start_time": "2022-07-27T11:26:31.247152Z"
    }
   },
   "outputs": [],
   "source": [
    "timer_depth = -1\n",
    "@contextmanager\n",
    "def timer(name):\n",
    "    t0 = time.time()\n",
    "    global timer_depth\n",
    "    timer_depth += 1\n",
    "    yield\n",
    "    pid = os.getpid()\n",
    "    py = psutil.Process(pid)\n",
    "    memoryUse = py.memory_info()[0] / 2. ** 30\n",
    "    print('----'*timer_depth + f'>>[{name}] done in {time.time() - t0:.0f} s ---> memory used: {memoryUse:.4f} GB', '')\n",
    "    if(timer_depth == 0):\n",
    "        print('\\n')\n",
    "    timer_depth -= 1"
   ]
  },
  {
   "cell_type": "code",
   "execution_count": 7,
   "id": "365b16c6",
   "metadata": {
    "ExecuteTime": {
     "end_time": "2022-07-27T11:26:33.854809Z",
     "start_time": "2022-07-27T11:26:33.837024Z"
    }
   },
   "outputs": [],
   "source": [
    "def cal_woe(app_train, app_train_target):\n",
    "    num_events = app_train_target.sum()\n",
    "    num_non_events = app_train_target.shape[0] - app_train_target.sum()\n",
    "\n",
    "    feature_list = []\n",
    "    feature_iv_list = []\n",
    "    for col in app_train.columns:\n",
    "        if app_train[col].unique().shape[0] == 1:\n",
    "            del app_train[col]\n",
    "            print('remove constant col', col)\n",
    "\n",
    "        with timer('cope with %s' % col):\n",
    "            feature_list.append(col)\n",
    "\n",
    "            woe_df = pd.DataFrame()\n",
    "            woe_df[col] = app_train[col]\n",
    "            woe_df['target'] = app_train_target\n",
    "            events_df = woe_df.groupby(col)['target'].sum().reset_index().rename(columns={'target' : 'events'})\n",
    "            events_df['non_events'] = woe_df.groupby(col).count().reset_index()['target'] - events_df['events']\n",
    "            def cal_woe(x):\n",
    "                return np.log( ((x['non_events']+0.5)/num_non_events) / ((x['events']+0.5)/num_events)  )\n",
    "            events_df['WOE_'+col] = events_df.apply(cal_woe, axis=1)\n",
    "\n",
    "            def cal_iv(x):\n",
    "                return x['WOE_'+col]*(x['non_events'] / num_non_events - x['events'] / num_events)\n",
    "            events_df['IV_'+col] = events_df.apply(cal_iv, axis=1)\n",
    "\n",
    "            feature_iv = events_df['IV_'+col].sum()\n",
    "            feature_iv_list.append(feature_iv)\n",
    "\n",
    "            events_df = events_df.drop(['events', 'non_events', 'IV_'+col], axis=1)\n",
    "            app_train = app_train.merge(events_df, how='left', on=col)\n",
    "    iv_df = pd.DataFrame()\n",
    "    iv_df['feature'] = feature_list\n",
    "    iv_df['IV'] = feature_iv_list\n",
    "    iv_df = iv_df.sort_values(by='IV', ascending=False)\n",
    "    return app_train, iv_df"
   ]
  },
  {
   "cell_type": "code",
   "execution_count": 8,
   "id": "9c6069cb",
   "metadata": {
    "ExecuteTime": {
     "end_time": "2022-07-27T11:44:31.772472Z",
     "start_time": "2022-07-27T11:26:40.542192Z"
    }
   },
   "outputs": [
    {
     "name": "stdout",
     "output_type": "stream",
     "text": [
      "---->>[cope with step] done in 2 s ---> memory used: 2.8123 GB \n",
      "---->>[cope with amount] done in 229 s ---> memory used: 1.4274 GB \n",
      "---->>[cope with oldbalanceOrg] done in 81 s ---> memory used: 1.2197 GB \n",
      "---->>[cope with newbalanceOrig] done in 117 s ---> memory used: 1.2889 GB \n",
      "---->>[cope with oldbalanceDest] done in 156 s ---> memory used: 1.3509 GB \n",
      "---->>[cope with newbalanceDest] done in 151 s ---> memory used: 1.3912 GB \n",
      "---->>[cope with bal_diff_orig] done in 128 s ---> memory used: 1.4022 GB \n",
      "---->>[cope with bal_diff_dest] done in 169 s ---> memory used: 1.4487 GB \n",
      "---->>[cope with typeId] done in 3 s ---> memory used: 1.4369 GB \n",
      "---->>[cope with day] done in 3 s ---> memory used: 1.4844 GB \n",
      "---->>[cope with weekday] done in 3 s ---> memory used: 1.5318 GB \n",
      "---->>[cope with sin_hour] done in 4 s ---> memory used: 1.5681 GB \n",
      "---->>[cope with cos_hour] done in 4 s ---> memory used: 1.6157 GB \n",
      "---->>[cope with sin_weekday] done in 4 s ---> memory used: 1.6631 GB \n",
      "---->>[cope with cos_weekday] done in 4 s ---> memory used: 1.7105 GB \n",
      "---->>[cope with hour] done in 3 s ---> memory used: 1.7579 GB \n",
      ">>[calculate WOE and IV] done in 1071 s ---> memory used: 1.6573 GB \n",
      "\n",
      "\n"
     ]
    }
   ],
   "source": [
    "with timer('calculate WOE and IV'):\n",
    "    app_train, iv_df = cal_woe(X, y)"
   ]
  },
  {
   "cell_type": "code",
   "execution_count": 9,
   "id": "ee2055e3",
   "metadata": {
    "ExecuteTime": {
     "end_time": "2022-07-27T11:46:38.154294Z",
     "start_time": "2022-07-27T11:46:28.817620Z"
    }
   },
   "outputs": [
    {
     "data": {
      "text/html": [
       "<div>\n",
       "<style scoped>\n",
       "    .dataframe tbody tr th:only-of-type {\n",
       "        vertical-align: middle;\n",
       "    }\n",
       "\n",
       "    .dataframe tbody tr th {\n",
       "        vertical-align: top;\n",
       "    }\n",
       "\n",
       "    .dataframe thead th {\n",
       "        text-align: right;\n",
       "    }\n",
       "</style>\n",
       "<table border=\"1\" class=\"dataframe\">\n",
       "  <thead>\n",
       "    <tr style=\"text-align: right;\">\n",
       "      <th></th>\n",
       "      <th>feature</th>\n",
       "      <th>IV</th>\n",
       "    </tr>\n",
       "  </thead>\n",
       "  <tbody>\n",
       "    <tr>\n",
       "      <th>2</th>\n",
       "      <td>oldbalanceOrg</td>\n",
       "      <td>7.655610</td>\n",
       "    </tr>\n",
       "    <tr>\n",
       "      <th>6</th>\n",
       "      <td>bal_diff_orig</td>\n",
       "      <td>7.068058</td>\n",
       "    </tr>\n",
       "    <tr>\n",
       "      <th>0</th>\n",
       "      <td>step</td>\n",
       "      <td>5.742761</td>\n",
       "    </tr>\n",
       "    <tr>\n",
       "      <th>12</th>\n",
       "      <td>cos_hour</td>\n",
       "      <td>5.655061</td>\n",
       "    </tr>\n",
       "    <tr>\n",
       "      <th>8</th>\n",
       "      <td>typeId</td>\n",
       "      <td>5.547062</td>\n",
       "    </tr>\n",
       "    <tr>\n",
       "      <th>11</th>\n",
       "      <td>sin_hour</td>\n",
       "      <td>4.432513</td>\n",
       "    </tr>\n",
       "    <tr>\n",
       "      <th>1</th>\n",
       "      <td>amount</td>\n",
       "      <td>2.549615</td>\n",
       "    </tr>\n",
       "    <tr>\n",
       "      <th>9</th>\n",
       "      <td>day</td>\n",
       "      <td>1.767640</td>\n",
       "    </tr>\n",
       "    <tr>\n",
       "      <th>10</th>\n",
       "      <td>weekday</td>\n",
       "      <td>0.701380</td>\n",
       "    </tr>\n",
       "    <tr>\n",
       "      <th>13</th>\n",
       "      <td>sin_weekday</td>\n",
       "      <td>0.701380</td>\n",
       "    </tr>\n",
       "    <tr>\n",
       "      <th>14</th>\n",
       "      <td>cos_weekday</td>\n",
       "      <td>0.701380</td>\n",
       "    </tr>\n",
       "    <tr>\n",
       "      <th>7</th>\n",
       "      <td>bal_diff_dest</td>\n",
       "      <td>0.444253</td>\n",
       "    </tr>\n",
       "    <tr>\n",
       "      <th>5</th>\n",
       "      <td>newbalanceDest</td>\n",
       "      <td>0.407277</td>\n",
       "    </tr>\n",
       "    <tr>\n",
       "      <th>15</th>\n",
       "      <td>hour</td>\n",
       "      <td>0.360851</td>\n",
       "    </tr>\n",
       "    <tr>\n",
       "      <th>4</th>\n",
       "      <td>oldbalanceDest</td>\n",
       "      <td>-0.398873</td>\n",
       "    </tr>\n",
       "    <tr>\n",
       "      <th>3</th>\n",
       "      <td>newbalanceOrig</td>\n",
       "      <td>-2.045134</td>\n",
       "    </tr>\n",
       "  </tbody>\n",
       "</table>\n",
       "</div>"
      ],
      "text/plain": [
       "           feature        IV\n",
       "2    oldbalanceOrg  7.655610\n",
       "6    bal_diff_orig  7.068058\n",
       "0             step  5.742761\n",
       "12        cos_hour  5.655061\n",
       "8           typeId  5.547062\n",
       "11        sin_hour  4.432513\n",
       "1           amount  2.549615\n",
       "9              day  1.767640\n",
       "10         weekday  0.701380\n",
       "13     sin_weekday  0.701380\n",
       "14     cos_weekday  0.701380\n",
       "7    bal_diff_dest  0.444253\n",
       "5   newbalanceDest  0.407277\n",
       "15            hour  0.360851\n",
       "4   oldbalanceDest -0.398873\n",
       "3   newbalanceOrig -2.045134"
      ]
     },
     "execution_count": 9,
     "metadata": {},
     "output_type": "execute_result"
    }
   ],
   "source": [
    "iv_df"
   ]
  },
  {
   "cell_type": "markdown",
   "id": "9a155af5",
   "metadata": {},
   "source": [
    "#### Inference:\n",
    "- Information Value (IV) is calculated for all features in the extended dataset in order to estimate their potential contribution to detectability\n",
    "- This is an indicator of feature quality and reasoning for feature selection"
   ]
  },
  {
   "cell_type": "markdown",
   "id": "45eaa846",
   "metadata": {},
   "source": [
    "# Min-Max Scaler\n",
    "\n",
    "MinMax Scaler shrinks the data within the given range, usually of 0 to 1. It transforms data by scaling features to a given range. It scales the values to a specific value range without changing the shape of the original distribution.\n",
    "\n",
    "We have used this scaling technique as it help us to remove the negative values as well as shrink the large matrices. A way to normalize the input features/variables is the Min-Max scaler. By doing so, all features will be transformed into the range [0,1] meaning that the minimum and maximum value of a feature/variable is going to be 0 and 1, respectively.\n",
    "\n",
    "**Why to normalize prior to model fitting?**\n",
    "\n",
    "The main idea behind normalization/standardization is always the same. Variables that are measured at different scales do not contribute equally to the model fitting & model learned function and might end up creating a bias. Thus, to deal with this potential problem feature-wise normalization such as MinMax Scaling is usually used prior to model fitting.\n",
    "\n",
    "# Box-Cox Transformation\n",
    "\n",
    "The Cox Box transformation is to transform the data so that its distribution is as close to a normal distribution as possible, that is, the histogram looks like a bell.\n",
    "\n",
    "This technique has its place in feature engineering because not all species of predictive models are robust to skewed data, so it is worth using when experimenting. It probably won’t provide a spectacular improvement, although at the fine-tuning stage it can serve its purpose by improving our evaluation metric.\n",
    "\n",
    "boxcox requires the input data to be positive. Sometimes a Box-Cox transformation provides a shift parameter to achieve this; boxcox does not. Such a shift parameter is equivalent to adding a positive constant to x before calling boxcox.\n",
    "\n",
    "A box-cox transformation is a commonly used method for transforming a non-normally distributed dataset into a more normally distributed one.\n",
    "\n",
    "The basic idea behind this method is to find some value for λ such that the transformed data is as close to normally distributed as possible, using the following formula:\n",
    "\n",
    "y(λ) = (yλ – 1) / λ  if y ≠ 0\n",
    "y(λ) = log(y)  if y = 0\n",
    "\n",
    "We can also find the exact lambda value used to perform the Box-Cox transformation.\n",
    "\n",
    "As based on the box plots of Part1 EDA it can also be concluded that none of the features is symmetrically distributed. \n",
    "\n",
    "Additionally, box plots indicate that features amount, oldbalanceOrg, newbalanceOrig, oldbalanceDest and newbalanceDest are highly skewed, and they should be further processed before training machine learning models. The Box–Cox transformation of the SciPy package is applied to transform these features closer to a normal distribution.\n",
    "\n",
    "**We will perform Box Cox Transformation on amount, oldbalanceOrg, newbalanceOrig, oldbalanceDest and newbalanceDest as these are important variables and are not normally distributed."
   ]
  },
  {
   "cell_type": "code",
   "execution_count": 3,
   "id": "12c5665a",
   "metadata": {
    "ExecuteTime": {
     "end_time": "2022-07-27T21:44:24.617822Z",
     "start_time": "2022-07-27T21:44:24.430480Z"
    }
   },
   "outputs": [],
   "source": [
    "data= dataset_2[['amount', 'oldbalanceOrg', 'newbalanceOrig', 'oldbalanceDest', 'newbalanceDest', 'bal_diff_orig',\n",
    "                'bal_diff_dest']]"
   ]
  },
  {
   "cell_type": "code",
   "execution_count": 4,
   "id": "3bd83953",
   "metadata": {
    "ExecuteTime": {
     "end_time": "2022-07-27T21:44:28.219964Z",
     "start_time": "2022-07-27T21:44:28.205780Z"
    }
   },
   "outputs": [],
   "source": [
    "col= ['amount_tr', 'oldbalanceOrg_tr', 'newbalanceOrig_tr', 'oldbalanceDest_tr', 'newbalanceDest_tr', 'bal_diff_orig_tr',\n",
    "                'bal_diff_dest_tr']"
   ]
  },
  {
   "cell_type": "code",
   "execution_count": 5,
   "id": "7f33b4fc",
   "metadata": {
    "ExecuteTime": {
     "end_time": "2022-07-27T21:45:41.547404Z",
     "start_time": "2022-07-27T21:44:31.944759Z"
    }
   },
   "outputs": [],
   "source": [
    "# perform a box-cox transform of the dataset\n",
    "scaler = MinMaxScaler(feature_range=(1, 2))\n",
    "power = PowerTransformer(method='box-cox')\n",
    "pipeline = Pipeline(steps=[('s', scaler),('p', power)])\n",
    "dataset1 = pipeline.fit_transform(data)"
   ]
  },
  {
   "cell_type": "code",
   "execution_count": 6,
   "id": "9ecd1947",
   "metadata": {
    "ExecuteTime": {
     "end_time": "2022-07-27T21:45:50.754490Z",
     "start_time": "2022-07-27T21:45:50.722578Z"
    }
   },
   "outputs": [
    {
     "data": {
      "text/html": [
       "<div>\n",
       "<style scoped>\n",
       "    .dataframe tbody tr th:only-of-type {\n",
       "        vertical-align: middle;\n",
       "    }\n",
       "\n",
       "    .dataframe tbody tr th {\n",
       "        vertical-align: top;\n",
       "    }\n",
       "\n",
       "    .dataframe thead th {\n",
       "        text-align: right;\n",
       "    }\n",
       "</style>\n",
       "<table border=\"1\" class=\"dataframe\">\n",
       "  <thead>\n",
       "    <tr style=\"text-align: right;\">\n",
       "      <th></th>\n",
       "      <th>amount_tr</th>\n",
       "      <th>oldbalanceOrg_tr</th>\n",
       "      <th>newbalanceOrig_tr</th>\n",
       "      <th>oldbalanceDest_tr</th>\n",
       "      <th>newbalanceDest_tr</th>\n",
       "      <th>bal_diff_orig_tr</th>\n",
       "      <th>bal_diff_dest_tr</th>\n",
       "    </tr>\n",
       "  </thead>\n",
       "  <tbody>\n",
       "    <tr>\n",
       "      <th>0</th>\n",
       "      <td>-0.969426</td>\n",
       "      <td>0.048516</td>\n",
       "      <td>0.001885</td>\n",
       "      <td>-0.788435</td>\n",
       "      <td>-0.830805</td>\n",
       "      <td>-0.418888</td>\n",
       "      <td>-0.929566</td>\n",
       "    </tr>\n",
       "    <tr>\n",
       "      <th>1</th>\n",
       "      <td>-1.068082</td>\n",
       "      <td>-0.450014</td>\n",
       "      <td>-0.455200</td>\n",
       "      <td>-0.788435</td>\n",
       "      <td>-0.830805</td>\n",
       "      <td>-0.729994</td>\n",
       "      <td>-0.929566</td>\n",
       "    </tr>\n",
       "    <tr>\n",
       "      <th>2</th>\n",
       "      <td>-1.089268</td>\n",
       "      <td>-0.527806</td>\n",
       "      <td>-0.524019</td>\n",
       "      <td>-0.788435</td>\n",
       "      <td>-0.830805</td>\n",
       "      <td>-0.800624</td>\n",
       "      <td>-0.929566</td>\n",
       "    </tr>\n",
       "    <tr>\n",
       "      <th>3</th>\n",
       "      <td>-1.089268</td>\n",
       "      <td>-0.527806</td>\n",
       "      <td>-0.524019</td>\n",
       "      <td>-0.745493</td>\n",
       "      <td>-0.830805</td>\n",
       "      <td>-0.800624</td>\n",
       "      <td>-0.698512</td>\n",
       "    </tr>\n",
       "    <tr>\n",
       "      <th>4</th>\n",
       "      <td>-0.947202</td>\n",
       "      <td>-0.376826</td>\n",
       "      <td>-0.418549</td>\n",
       "      <td>-0.788435</td>\n",
       "      <td>-0.830805</td>\n",
       "      <td>-0.352727</td>\n",
       "      <td>-0.929566</td>\n",
       "    </tr>\n",
       "    <tr>\n",
       "      <th>...</th>\n",
       "      <td>...</td>\n",
       "      <td>...</td>\n",
       "      <td>...</td>\n",
       "      <td>...</td>\n",
       "      <td>...</td>\n",
       "      <td>...</td>\n",
       "      <td>...</td>\n",
       "    </tr>\n",
       "    <tr>\n",
       "      <th>6362615</th>\n",
       "      <td>1.390245</td>\n",
       "      <td>0.520406</td>\n",
       "      <td>-0.524019</td>\n",
       "      <td>-0.788435</td>\n",
       "      <td>-0.265937</td>\n",
       "      <td>1.990119</td>\n",
       "      <td>1.364409</td>\n",
       "    </tr>\n",
       "    <tr>\n",
       "      <th>6362616</th>\n",
       "      <td>2.441226</td>\n",
       "      <td>2.719405</td>\n",
       "      <td>-0.524019</td>\n",
       "      <td>-0.788435</td>\n",
       "      <td>-0.830805</td>\n",
       "      <td>2.008086</td>\n",
       "      <td>-0.929566</td>\n",
       "    </tr>\n",
       "    <tr>\n",
       "      <th>6362617</th>\n",
       "      <td>2.441226</td>\n",
       "      <td>2.719405</td>\n",
       "      <td>-0.524019</td>\n",
       "      <td>-0.651788</td>\n",
       "      <td>2.154113</td>\n",
       "      <td>2.008086</td>\n",
       "      <td>2.456089</td>\n",
       "    </tr>\n",
       "    <tr>\n",
       "      <th>6362618</th>\n",
       "      <td>2.269756</td>\n",
       "      <td>1.490945</td>\n",
       "      <td>-0.524019</td>\n",
       "      <td>-0.788435</td>\n",
       "      <td>-0.830805</td>\n",
       "      <td>2.008074</td>\n",
       "      <td>-0.929566</td>\n",
       "    </tr>\n",
       "    <tr>\n",
       "      <th>6362619</th>\n",
       "      <td>2.269756</td>\n",
       "      <td>1.490945</td>\n",
       "      <td>-0.524019</td>\n",
       "      <td>2.193619</td>\n",
       "      <td>2.183815</td>\n",
       "      <td>2.008074</td>\n",
       "      <td>2.255377</td>\n",
       "    </tr>\n",
       "  </tbody>\n",
       "</table>\n",
       "<p>6362620 rows × 7 columns</p>\n",
       "</div>"
      ],
      "text/plain": [
       "         amount_tr  oldbalanceOrg_tr  newbalanceOrig_tr  oldbalanceDest_tr  \\\n",
       "0        -0.969426          0.048516           0.001885          -0.788435   \n",
       "1        -1.068082         -0.450014          -0.455200          -0.788435   \n",
       "2        -1.089268         -0.527806          -0.524019          -0.788435   \n",
       "3        -1.089268         -0.527806          -0.524019          -0.745493   \n",
       "4        -0.947202         -0.376826          -0.418549          -0.788435   \n",
       "...            ...               ...                ...                ...   \n",
       "6362615   1.390245          0.520406          -0.524019          -0.788435   \n",
       "6362616   2.441226          2.719405          -0.524019          -0.788435   \n",
       "6362617   2.441226          2.719405          -0.524019          -0.651788   \n",
       "6362618   2.269756          1.490945          -0.524019          -0.788435   \n",
       "6362619   2.269756          1.490945          -0.524019           2.193619   \n",
       "\n",
       "         newbalanceDest_tr  bal_diff_orig_tr  bal_diff_dest_tr  \n",
       "0                -0.830805         -0.418888         -0.929566  \n",
       "1                -0.830805         -0.729994         -0.929566  \n",
       "2                -0.830805         -0.800624         -0.929566  \n",
       "3                -0.830805         -0.800624         -0.698512  \n",
       "4                -0.830805         -0.352727         -0.929566  \n",
       "...                    ...               ...               ...  \n",
       "6362615          -0.265937          1.990119          1.364409  \n",
       "6362616          -0.830805          2.008086         -0.929566  \n",
       "6362617           2.154113          2.008086          2.456089  \n",
       "6362618          -0.830805          2.008074         -0.929566  \n",
       "6362619           2.183815          2.008074          2.255377  \n",
       "\n",
       "[6362620 rows x 7 columns]"
      ]
     },
     "execution_count": 6,
     "metadata": {},
     "output_type": "execute_result"
    }
   ],
   "source": [
    "# convert the array back to a dataframe\n",
    "scaled_df = pd.DataFrame(dataset1, columns=col)\n",
    "scaled_df"
   ]
  },
  {
   "cell_type": "code",
   "execution_count": 8,
   "id": "041c4853",
   "metadata": {
    "ExecuteTime": {
     "end_time": "2022-07-27T20:33:49.280378Z",
     "start_time": "2022-07-27T20:33:46.048916Z"
    }
   },
   "outputs": [
    {
     "data": {
      "image/png": "[encoded data removed]",
      "text/plain": [
       "<Figure size 432x288 with 1 Axes>"
      ]
     },
     "metadata": {
      "needs_background": "light"
     },
     "output_type": "display_data"
    }
   ],
   "source": [
    "# histograms of the variables\n",
    "plt.hist(scaled_df['amount_tr'])\n",
    "plt.ticklabel_format(style='plain') \n",
    "plt.show()"
   ]
  },
  {
   "cell_type": "code",
   "execution_count": 9,
   "id": "717fe27e",
   "metadata": {
    "ExecuteTime": {
     "end_time": "2022-07-27T20:33:54.496387Z",
     "start_time": "2022-07-27T20:33:52.994312Z"
    }
   },
   "outputs": [
    {
     "data": {
      "text/html": [
       "<div>\n",
       "<style scoped>\n",
       "    .dataframe tbody tr th:only-of-type {\n",
       "        vertical-align: middle;\n",
       "    }\n",
       "\n",
       "    .dataframe tbody tr th {\n",
       "        vertical-align: top;\n",
       "    }\n",
       "\n",
       "    .dataframe thead th {\n",
       "        text-align: right;\n",
       "    }\n",
       "</style>\n",
       "<table border=\"1\" class=\"dataframe\">\n",
       "  <thead>\n",
       "    <tr style=\"text-align: right;\">\n",
       "      <th></th>\n",
       "      <th>skew</th>\n",
       "      <th>kurtosis</th>\n",
       "    </tr>\n",
       "  </thead>\n",
       "  <tbody>\n",
       "    <tr>\n",
       "      <th>amount_tr</th>\n",
       "      <td>0.679905</td>\n",
       "      <td>-0.689401</td>\n",
       "    </tr>\n",
       "    <tr>\n",
       "      <th>oldbalanceOrg_tr</th>\n",
       "      <td>2.010414</td>\n",
       "      <td>2.491869</td>\n",
       "    </tr>\n",
       "    <tr>\n",
       "      <th>newbalanceOrig_tr</th>\n",
       "      <td>1.935560</td>\n",
       "      <td>2.230177</td>\n",
       "    </tr>\n",
       "    <tr>\n",
       "      <th>oldbalanceDest_tr</th>\n",
       "      <td>1.024973</td>\n",
       "      <td>-0.370455</td>\n",
       "    </tr>\n",
       "    <tr>\n",
       "      <th>newbalanceDest_tr</th>\n",
       "      <td>0.962855</td>\n",
       "      <td>-0.457838</td>\n",
       "    </tr>\n",
       "    <tr>\n",
       "      <th>bal_diff_orig_tr</th>\n",
       "      <td>0.941587</td>\n",
       "      <td>-0.697033</td>\n",
       "    </tr>\n",
       "    <tr>\n",
       "      <th>bal_diff_dest_tr</th>\n",
       "      <td>0.759128</td>\n",
       "      <td>-0.590474</td>\n",
       "    </tr>\n",
       "  </tbody>\n",
       "</table>\n",
       "</div>"
      ],
      "text/plain": [
       "                       skew  kurtosis\n",
       "amount_tr          0.679905 -0.689401\n",
       "oldbalanceOrg_tr   2.010414  2.491869\n",
       "newbalanceOrig_tr  1.935560  2.230177\n",
       "oldbalanceDest_tr  1.024973 -0.370455\n",
       "newbalanceDest_tr  0.962855 -0.457838\n",
       "bal_diff_orig_tr   0.941587 -0.697033\n",
       "bal_diff_dest_tr   0.759128 -0.590474"
      ]
     },
     "execution_count": 9,
     "metadata": {},
     "output_type": "execute_result"
    }
   ],
   "source": [
    "scaled_df.agg(['skew', 'kurtosis']).transpose()"
   ]
  },
  {
   "cell_type": "markdown",
   "id": "38bb26ab",
   "metadata": {},
   "source": [
    "#### Inference:\n",
    "* As rule of thumb, skewness can be interpreted like this: \n",
    "|        |          |\n",
    "| :---: | :---: |\n",
    "| **Fairly Symmetrical** | -0.5 to 0.5 |\n",
    "| **Moderate Skewed** | -0.5 to -1.0 and 0.5 to 1.0 |\n",
    "| **Highly Skewed** | < -1.0 and > 1.0 |\n",
    "\n",
    "So, as per above our oldbalanceOrg_tr, newbalanceOrig_tr & oldbalanceDest_tr are Highly Skewed. After working with alot of normalization technique Box-Cox transformation give us good result."
   ]
  },
  {
   "cell_type": "code",
   "execution_count": 7,
   "id": "bab0ddea",
   "metadata": {
    "ExecuteTime": {
     "end_time": "2022-07-27T21:46:12.664296Z",
     "start_time": "2022-07-27T21:46:02.260161Z"
    }
   },
   "outputs": [
    {
     "data": {
      "text/html": [
       "<div>\n",
       "<style scoped>\n",
       "    .dataframe tbody tr th:only-of-type {\n",
       "        vertical-align: middle;\n",
       "    }\n",
       "\n",
       "    .dataframe tbody tr th {\n",
       "        vertical-align: top;\n",
       "    }\n",
       "\n",
       "    .dataframe thead th {\n",
       "        text-align: right;\n",
       "    }\n",
       "</style>\n",
       "<table border=\"1\" class=\"dataframe\">\n",
       "  <thead>\n",
       "    <tr style=\"text-align: right;\">\n",
       "      <th></th>\n",
       "      <th>step</th>\n",
       "      <th>amount</th>\n",
       "      <th>oldbalanceOrg</th>\n",
       "      <th>newbalanceOrig</th>\n",
       "      <th>oldbalanceDest</th>\n",
       "      <th>newbalanceDest</th>\n",
       "      <th>bal_diff_orig</th>\n",
       "      <th>bal_diff_dest</th>\n",
       "      <th>typeId</th>\n",
       "      <th>day</th>\n",
       "      <th>...</th>\n",
       "      <th>cos_weekday</th>\n",
       "      <th>Fraud_checkId</th>\n",
       "      <th>hour</th>\n",
       "      <th>amount_tr</th>\n",
       "      <th>oldbalanceOrg_tr</th>\n",
       "      <th>newbalanceOrig_tr</th>\n",
       "      <th>oldbalanceDest_tr</th>\n",
       "      <th>newbalanceDest_tr</th>\n",
       "      <th>bal_diff_orig_tr</th>\n",
       "      <th>bal_diff_dest_tr</th>\n",
       "    </tr>\n",
       "  </thead>\n",
       "  <tbody>\n",
       "    <tr>\n",
       "      <th>0</th>\n",
       "      <td>1</td>\n",
       "      <td>9839.64</td>\n",
       "      <td>170136.00</td>\n",
       "      <td>160296.36</td>\n",
       "      <td>0.00</td>\n",
       "      <td>0.00</td>\n",
       "      <td>9839.64</td>\n",
       "      <td>0.00</td>\n",
       "      <td>0</td>\n",
       "      <td>0</td>\n",
       "      <td>...</td>\n",
       "      <td>1.000000</td>\n",
       "      <td>False</td>\n",
       "      <td>0</td>\n",
       "      <td>-0.969426</td>\n",
       "      <td>0.048516</td>\n",
       "      <td>0.001885</td>\n",
       "      <td>-0.788435</td>\n",
       "      <td>-0.830805</td>\n",
       "      <td>-0.418888</td>\n",
       "      <td>-0.929566</td>\n",
       "    </tr>\n",
       "    <tr>\n",
       "      <th>1</th>\n",
       "      <td>1</td>\n",
       "      <td>1864.28</td>\n",
       "      <td>21249.00</td>\n",
       "      <td>19384.72</td>\n",
       "      <td>0.00</td>\n",
       "      <td>0.00</td>\n",
       "      <td>1864.28</td>\n",
       "      <td>0.00</td>\n",
       "      <td>0</td>\n",
       "      <td>0</td>\n",
       "      <td>...</td>\n",
       "      <td>1.000000</td>\n",
       "      <td>False</td>\n",
       "      <td>0</td>\n",
       "      <td>-1.068082</td>\n",
       "      <td>-0.450014</td>\n",
       "      <td>-0.455200</td>\n",
       "      <td>-0.788435</td>\n",
       "      <td>-0.830805</td>\n",
       "      <td>-0.729994</td>\n",
       "      <td>-0.929566</td>\n",
       "    </tr>\n",
       "    <tr>\n",
       "      <th>2</th>\n",
       "      <td>1</td>\n",
       "      <td>181.00</td>\n",
       "      <td>181.00</td>\n",
       "      <td>0.00</td>\n",
       "      <td>0.00</td>\n",
       "      <td>0.00</td>\n",
       "      <td>181.00</td>\n",
       "      <td>0.00</td>\n",
       "      <td>1</td>\n",
       "      <td>0</td>\n",
       "      <td>...</td>\n",
       "      <td>1.000000</td>\n",
       "      <td>True</td>\n",
       "      <td>0</td>\n",
       "      <td>-1.089268</td>\n",
       "      <td>-0.527806</td>\n",
       "      <td>-0.524019</td>\n",
       "      <td>-0.788435</td>\n",
       "      <td>-0.830805</td>\n",
       "      <td>-0.800624</td>\n",
       "      <td>-0.929566</td>\n",
       "    </tr>\n",
       "    <tr>\n",
       "      <th>3</th>\n",
       "      <td>1</td>\n",
       "      <td>181.00</td>\n",
       "      <td>181.00</td>\n",
       "      <td>0.00</td>\n",
       "      <td>21182.00</td>\n",
       "      <td>0.00</td>\n",
       "      <td>181.00</td>\n",
       "      <td>21182.00</td>\n",
       "      <td>2</td>\n",
       "      <td>0</td>\n",
       "      <td>...</td>\n",
       "      <td>1.000000</td>\n",
       "      <td>True</td>\n",
       "      <td>0</td>\n",
       "      <td>-1.089268</td>\n",
       "      <td>-0.527806</td>\n",
       "      <td>-0.524019</td>\n",
       "      <td>-0.745493</td>\n",
       "      <td>-0.830805</td>\n",
       "      <td>-0.800624</td>\n",
       "      <td>-0.698512</td>\n",
       "    </tr>\n",
       "    <tr>\n",
       "      <th>4</th>\n",
       "      <td>1</td>\n",
       "      <td>11668.14</td>\n",
       "      <td>41554.00</td>\n",
       "      <td>29885.86</td>\n",
       "      <td>0.00</td>\n",
       "      <td>0.00</td>\n",
       "      <td>11668.14</td>\n",
       "      <td>0.00</td>\n",
       "      <td>0</td>\n",
       "      <td>0</td>\n",
       "      <td>...</td>\n",
       "      <td>1.000000</td>\n",
       "      <td>False</td>\n",
       "      <td>0</td>\n",
       "      <td>-0.947202</td>\n",
       "      <td>-0.376826</td>\n",
       "      <td>-0.418549</td>\n",
       "      <td>-0.788435</td>\n",
       "      <td>-0.830805</td>\n",
       "      <td>-0.352727</td>\n",
       "      <td>-0.929566</td>\n",
       "    </tr>\n",
       "    <tr>\n",
       "      <th>...</th>\n",
       "      <td>...</td>\n",
       "      <td>...</td>\n",
       "      <td>...</td>\n",
       "      <td>...</td>\n",
       "      <td>...</td>\n",
       "      <td>...</td>\n",
       "      <td>...</td>\n",
       "      <td>...</td>\n",
       "      <td>...</td>\n",
       "      <td>...</td>\n",
       "      <td>...</td>\n",
       "      <td>...</td>\n",
       "      <td>...</td>\n",
       "      <td>...</td>\n",
       "      <td>...</td>\n",
       "      <td>...</td>\n",
       "      <td>...</td>\n",
       "      <td>...</td>\n",
       "      <td>...</td>\n",
       "      <td>...</td>\n",
       "      <td>...</td>\n",
       "    </tr>\n",
       "    <tr>\n",
       "      <th>6362615</th>\n",
       "      <td>743</td>\n",
       "      <td>339682.13</td>\n",
       "      <td>339682.13</td>\n",
       "      <td>0.00</td>\n",
       "      <td>0.00</td>\n",
       "      <td>339682.13</td>\n",
       "      <td>339682.13</td>\n",
       "      <td>339682.13</td>\n",
       "      <td>2</td>\n",
       "      <td>30</td>\n",
       "      <td>...</td>\n",
       "      <td>0.997564</td>\n",
       "      <td>True</td>\n",
       "      <td>1</td>\n",
       "      <td>1.390245</td>\n",
       "      <td>0.520406</td>\n",
       "      <td>-0.524019</td>\n",
       "      <td>-0.788435</td>\n",
       "      <td>-0.265937</td>\n",
       "      <td>1.990119</td>\n",
       "      <td>1.364409</td>\n",
       "    </tr>\n",
       "    <tr>\n",
       "      <th>6362616</th>\n",
       "      <td>743</td>\n",
       "      <td>6311409.28</td>\n",
       "      <td>6311409.28</td>\n",
       "      <td>0.00</td>\n",
       "      <td>0.00</td>\n",
       "      <td>0.00</td>\n",
       "      <td>6311409.28</td>\n",
       "      <td>0.00</td>\n",
       "      <td>1</td>\n",
       "      <td>30</td>\n",
       "      <td>...</td>\n",
       "      <td>0.997564</td>\n",
       "      <td>True</td>\n",
       "      <td>1</td>\n",
       "      <td>2.441226</td>\n",
       "      <td>2.719405</td>\n",
       "      <td>-0.524019</td>\n",
       "      <td>-0.788435</td>\n",
       "      <td>-0.830805</td>\n",
       "      <td>2.008086</td>\n",
       "      <td>-0.929566</td>\n",
       "    </tr>\n",
       "    <tr>\n",
       "      <th>6362617</th>\n",
       "      <td>743</td>\n",
       "      <td>6311409.28</td>\n",
       "      <td>6311409.28</td>\n",
       "      <td>0.00</td>\n",
       "      <td>68488.84</td>\n",
       "      <td>6379898.11</td>\n",
       "      <td>6311409.28</td>\n",
       "      <td>6311409.27</td>\n",
       "      <td>2</td>\n",
       "      <td>30</td>\n",
       "      <td>...</td>\n",
       "      <td>0.997564</td>\n",
       "      <td>True</td>\n",
       "      <td>1</td>\n",
       "      <td>2.441226</td>\n",
       "      <td>2.719405</td>\n",
       "      <td>-0.524019</td>\n",
       "      <td>-0.651788</td>\n",
       "      <td>2.154113</td>\n",
       "      <td>2.008086</td>\n",
       "      <td>2.456089</td>\n",
       "    </tr>\n",
       "    <tr>\n",
       "      <th>6362618</th>\n",
       "      <td>743</td>\n",
       "      <td>850002.52</td>\n",
       "      <td>850002.52</td>\n",
       "      <td>0.00</td>\n",
       "      <td>0.00</td>\n",
       "      <td>0.00</td>\n",
       "      <td>850002.52</td>\n",
       "      <td>0.00</td>\n",
       "      <td>1</td>\n",
       "      <td>30</td>\n",
       "      <td>...</td>\n",
       "      <td>0.997564</td>\n",
       "      <td>True</td>\n",
       "      <td>1</td>\n",
       "      <td>2.269756</td>\n",
       "      <td>1.490945</td>\n",
       "      <td>-0.524019</td>\n",
       "      <td>-0.788435</td>\n",
       "      <td>-0.830805</td>\n",
       "      <td>2.008074</td>\n",
       "      <td>-0.929566</td>\n",
       "    </tr>\n",
       "    <tr>\n",
       "      <th>6362619</th>\n",
       "      <td>743</td>\n",
       "      <td>850002.52</td>\n",
       "      <td>850002.52</td>\n",
       "      <td>0.00</td>\n",
       "      <td>6510099.11</td>\n",
       "      <td>7360101.63</td>\n",
       "      <td>850002.52</td>\n",
       "      <td>850002.52</td>\n",
       "      <td>2</td>\n",
       "      <td>30</td>\n",
       "      <td>...</td>\n",
       "      <td>0.997564</td>\n",
       "      <td>True</td>\n",
       "      <td>1</td>\n",
       "      <td>2.269756</td>\n",
       "      <td>1.490945</td>\n",
       "      <td>-0.524019</td>\n",
       "      <td>2.193619</td>\n",
       "      <td>2.183815</td>\n",
       "      <td>2.008074</td>\n",
       "      <td>2.255377</td>\n",
       "    </tr>\n",
       "  </tbody>\n",
       "</table>\n",
       "<p>6362620 rows × 24 columns</p>\n",
       "</div>"
      ],
      "text/plain": [
       "         step      amount  oldbalanceOrg  newbalanceOrig  oldbalanceDest  \\\n",
       "0           1     9839.64      170136.00       160296.36            0.00   \n",
       "1           1     1864.28       21249.00        19384.72            0.00   \n",
       "2           1      181.00         181.00            0.00            0.00   \n",
       "3           1      181.00         181.00            0.00        21182.00   \n",
       "4           1    11668.14       41554.00        29885.86            0.00   \n",
       "...       ...         ...            ...             ...             ...   \n",
       "6362615   743   339682.13      339682.13            0.00            0.00   \n",
       "6362616   743  6311409.28     6311409.28            0.00            0.00   \n",
       "6362617   743  6311409.28     6311409.28            0.00        68488.84   \n",
       "6362618   743   850002.52      850002.52            0.00            0.00   \n",
       "6362619   743   850002.52      850002.52            0.00      6510099.11   \n",
       "\n",
       "         newbalanceDest  bal_diff_orig  bal_diff_dest  typeId  day  ...  \\\n",
       "0                  0.00        9839.64           0.00       0    0  ...   \n",
       "1                  0.00        1864.28           0.00       0    0  ...   \n",
       "2                  0.00         181.00           0.00       1    0  ...   \n",
       "3                  0.00         181.00       21182.00       2    0  ...   \n",
       "4                  0.00       11668.14           0.00       0    0  ...   \n",
       "...                 ...            ...            ...     ...  ...  ...   \n",
       "6362615       339682.13      339682.13      339682.13       2   30  ...   \n",
       "6362616            0.00     6311409.28           0.00       1   30  ...   \n",
       "6362617      6379898.11     6311409.28     6311409.27       2   30  ...   \n",
       "6362618            0.00      850002.52           0.00       1   30  ...   \n",
       "6362619      7360101.63      850002.52      850002.52       2   30  ...   \n",
       "\n",
       "         cos_weekday  Fraud_checkId  hour  amount_tr  oldbalanceOrg_tr  \\\n",
       "0           1.000000          False     0  -0.969426          0.048516   \n",
       "1           1.000000          False     0  -1.068082         -0.450014   \n",
       "2           1.000000           True     0  -1.089268         -0.527806   \n",
       "3           1.000000           True     0  -1.089268         -0.527806   \n",
       "4           1.000000          False     0  -0.947202         -0.376826   \n",
       "...              ...            ...   ...        ...               ...   \n",
       "6362615     0.997564           True     1   1.390245          0.520406   \n",
       "6362616     0.997564           True     1   2.441226          2.719405   \n",
       "6362617     0.997564           True     1   2.441226          2.719405   \n",
       "6362618     0.997564           True     1   2.269756          1.490945   \n",
       "6362619     0.997564           True     1   2.269756          1.490945   \n",
       "\n",
       "         newbalanceOrig_tr  oldbalanceDest_tr  newbalanceDest_tr  \\\n",
       "0                 0.001885          -0.788435          -0.830805   \n",
       "1                -0.455200          -0.788435          -0.830805   \n",
       "2                -0.524019          -0.788435          -0.830805   \n",
       "3                -0.524019          -0.745493          -0.830805   \n",
       "4                -0.418549          -0.788435          -0.830805   \n",
       "...                    ...                ...                ...   \n",
       "6362615          -0.524019          -0.788435          -0.265937   \n",
       "6362616          -0.524019          -0.788435          -0.830805   \n",
       "6362617          -0.524019          -0.651788           2.154113   \n",
       "6362618          -0.524019          -0.788435          -0.830805   \n",
       "6362619          -0.524019           2.193619           2.183815   \n",
       "\n",
       "         bal_diff_orig_tr  bal_diff_dest_tr  \n",
       "0               -0.418888         -0.929566  \n",
       "1               -0.729994         -0.929566  \n",
       "2               -0.800624         -0.929566  \n",
       "3               -0.800624         -0.698512  \n",
       "4               -0.352727         -0.929566  \n",
       "...                   ...               ...  \n",
       "6362615          1.990119          1.364409  \n",
       "6362616          2.008086         -0.929566  \n",
       "6362617          2.008086          2.456089  \n",
       "6362618          2.008074         -0.929566  \n",
       "6362619          2.008074          2.255377  \n",
       "\n",
       "[6362620 rows x 24 columns]"
      ]
     },
     "execution_count": 7,
     "metadata": {},
     "output_type": "execute_result"
    }
   ],
   "source": [
    "new_df= pd.concat([dataset_2, scaled_df], axis=1)\n",
    "new_df"
   ]
  },
  {
   "cell_type": "code",
   "execution_count": 138,
   "id": "711064db",
   "metadata": {
    "ExecuteTime": {
     "end_time": "2022-07-27T15:39:29.751088Z",
     "start_time": "2022-07-27T15:39:23.638995Z"
    }
   },
   "outputs": [
    {
     "name": "stdout",
     "output_type": "stream",
     "text": [
      "X Shape: (6362620, 23)\n",
      "y Shape: (6362620,)\n"
     ]
    }
   ],
   "source": [
    "# Data Split for Predictors and Target\n",
    "X = new_df.drop(['Fraud_checkId'], axis = 1)\n",
    "y = new_df['Fraud_checkId']\n",
    "\n",
    "print('X Shape:', X.shape)\n",
    "print('y Shape:', y.shape)"
   ]
  },
  {
   "cell_type": "code",
   "execution_count": 139,
   "id": "3605ac93",
   "metadata": {
    "ExecuteTime": {
     "end_time": "2022-07-27T18:50:08.454753Z",
     "start_time": "2022-07-27T15:40:03.449834Z"
    }
   },
   "outputs": [
    {
     "name": "stdout",
     "output_type": "stream",
     "text": [
      "---->>[cope with step] done in 61 s ---> memory used: 2.9690 GB \n",
      "---->>[cope with amount] done in 295 s ---> memory used: 1.6411 GB \n",
      "---->>[cope with oldbalanceOrg] done in 85 s ---> memory used: 1.5008 GB \n",
      "---->>[cope with newbalanceOrig] done in 115 s ---> memory used: 1.5608 GB \n",
      "---->>[cope with oldbalanceDest] done in 150 s ---> memory used: 1.6170 GB \n",
      "---->>[cope with newbalanceDest] done in 149 s ---> memory used: 1.6686 GB \n",
      "---->>[cope with bal_diff_orig] done in 129 s ---> memory used: 1.7054 GB \n",
      "---->>[cope with bal_diff_dest] done in 166 s ---> memory used: 1.6914 GB \n",
      "---->>[cope with typeId] done in 5 s ---> memory used: 1.7509 GB \n",
      "---->>[cope with day] done in 4 s ---> memory used: 1.7984 GB \n",
      "---->>[cope with weekday] done in 4 s ---> memory used: 1.8184 GB \n",
      "---->>[cope with sin_hour] done in 10 s ---> memory used: 1.8889 GB \n",
      "---->>[cope with cos_hour] done in 43 s ---> memory used: 1.7204 GB \n",
      "---->>[cope with sin_weekday] done in 122 s ---> memory used: 1.1754 GB \n",
      "---->>[cope with cos_weekday] done in 241 s ---> memory used: 1.7164 GB \n",
      "---->>[cope with hour] done in 325 s ---> memory used: 1.8875 GB \n",
      "---->>[cope with oldbalanceOrg_tr] done in 1009 s ---> memory used: 0.0032 GB \n",
      "---->>[cope with newbalanceOrig_tr] done in 967 s ---> memory used: 0.2241 GB \n",
      "---->>[cope with oldbalanceDest_tr] done in 631 s ---> memory used: 2.0442 GB \n",
      "---->>[cope with newbalanceDest_tr] done in 1796 s ---> memory used: 1.3767 GB \n",
      "---->>[cope with bal_diff_orig_tr] done in 1189 s ---> memory used: 1.7264 GB \n",
      "---->>[cope with bal_diff_dest_tr] done in 2052 s ---> memory used: 0.4881 GB \n",
      ">>[calculate WOE and IV] done in 11381 s ---> memory used: 0.4970 GB \n",
      "\n",
      "\n"
     ]
    }
   ],
   "source": [
    "with timer('calculate WOE and IV'):\n",
    "    app_train, iv_df = cal_woe(X, y)"
   ]
  },
  {
   "cell_type": "code",
   "execution_count": 140,
   "id": "65886ddb",
   "metadata": {
    "ExecuteTime": {
     "end_time": "2022-07-27T18:57:24.258604Z",
     "start_time": "2022-07-27T18:57:20.020291Z"
    }
   },
   "outputs": [
    {
     "data": {
      "text/html": [
       "<div>\n",
       "<style scoped>\n",
       "    .dataframe tbody tr th:only-of-type {\n",
       "        vertical-align: middle;\n",
       "    }\n",
       "\n",
       "    .dataframe tbody tr th {\n",
       "        vertical-align: top;\n",
       "    }\n",
       "\n",
       "    .dataframe thead th {\n",
       "        text-align: right;\n",
       "    }\n",
       "</style>\n",
       "<table border=\"1\" class=\"dataframe\">\n",
       "  <thead>\n",
       "    <tr style=\"text-align: right;\">\n",
       "      <th></th>\n",
       "      <th>feature</th>\n",
       "      <th>IV</th>\n",
       "    </tr>\n",
       "  </thead>\n",
       "  <tbody>\n",
       "    <tr>\n",
       "      <th>2</th>\n",
       "      <td>oldbalanceOrg</td>\n",
       "      <td>7.655610</td>\n",
       "    </tr>\n",
       "    <tr>\n",
       "      <th>17</th>\n",
       "      <td>oldbalanceOrg_tr</td>\n",
       "      <td>7.654302</td>\n",
       "    </tr>\n",
       "    <tr>\n",
       "      <th>21</th>\n",
       "      <td>bal_diff_orig_tr</td>\n",
       "      <td>7.286570</td>\n",
       "    </tr>\n",
       "    <tr>\n",
       "      <th>6</th>\n",
       "      <td>bal_diff_orig</td>\n",
       "      <td>7.068058</td>\n",
       "    </tr>\n",
       "    <tr>\n",
       "      <th>0</th>\n",
       "      <td>step</td>\n",
       "      <td>5.742761</td>\n",
       "    </tr>\n",
       "    <tr>\n",
       "      <th>12</th>\n",
       "      <td>cos_hour</td>\n",
       "      <td>5.655061</td>\n",
       "    </tr>\n",
       "    <tr>\n",
       "      <th>8</th>\n",
       "      <td>typeId</td>\n",
       "      <td>5.547062</td>\n",
       "    </tr>\n",
       "    <tr>\n",
       "      <th>11</th>\n",
       "      <td>sin_hour</td>\n",
       "      <td>4.432513</td>\n",
       "    </tr>\n",
       "    <tr>\n",
       "      <th>1</th>\n",
       "      <td>amount</td>\n",
       "      <td>2.549615</td>\n",
       "    </tr>\n",
       "    <tr>\n",
       "      <th>16</th>\n",
       "      <td>amount_tr</td>\n",
       "      <td>2.540922</td>\n",
       "    </tr>\n",
       "    <tr>\n",
       "      <th>9</th>\n",
       "      <td>day</td>\n",
       "      <td>1.767640</td>\n",
       "    </tr>\n",
       "    <tr>\n",
       "      <th>10</th>\n",
       "      <td>weekday</td>\n",
       "      <td>0.701380</td>\n",
       "    </tr>\n",
       "    <tr>\n",
       "      <th>13</th>\n",
       "      <td>sin_weekday</td>\n",
       "      <td>0.701380</td>\n",
       "    </tr>\n",
       "    <tr>\n",
       "      <th>14</th>\n",
       "      <td>cos_weekday</td>\n",
       "      <td>0.701380</td>\n",
       "    </tr>\n",
       "    <tr>\n",
       "      <th>7</th>\n",
       "      <td>bal_diff_dest</td>\n",
       "      <td>0.444253</td>\n",
       "    </tr>\n",
       "    <tr>\n",
       "      <th>20</th>\n",
       "      <td>newbalanceDest_tr</td>\n",
       "      <td>0.407763</td>\n",
       "    </tr>\n",
       "    <tr>\n",
       "      <th>5</th>\n",
       "      <td>newbalanceDest</td>\n",
       "      <td>0.407277</td>\n",
       "    </tr>\n",
       "    <tr>\n",
       "      <th>22</th>\n",
       "      <td>bal_diff_dest_tr</td>\n",
       "      <td>0.403969</td>\n",
       "    </tr>\n",
       "    <tr>\n",
       "      <th>15</th>\n",
       "      <td>hour</td>\n",
       "      <td>0.360851</td>\n",
       "    </tr>\n",
       "    <tr>\n",
       "      <th>19</th>\n",
       "      <td>oldbalanceDest_tr</td>\n",
       "      <td>-0.398297</td>\n",
       "    </tr>\n",
       "    <tr>\n",
       "      <th>4</th>\n",
       "      <td>oldbalanceDest</td>\n",
       "      <td>-0.398873</td>\n",
       "    </tr>\n",
       "    <tr>\n",
       "      <th>18</th>\n",
       "      <td>newbalanceOrig_tr</td>\n",
       "      <td>-2.044978</td>\n",
       "    </tr>\n",
       "    <tr>\n",
       "      <th>3</th>\n",
       "      <td>newbalanceOrig</td>\n",
       "      <td>-2.045134</td>\n",
       "    </tr>\n",
       "  </tbody>\n",
       "</table>\n",
       "</div>"
      ],
      "text/plain": [
       "              feature        IV\n",
       "2       oldbalanceOrg  7.655610\n",
       "17   oldbalanceOrg_tr  7.654302\n",
       "21   bal_diff_orig_tr  7.286570\n",
       "6       bal_diff_orig  7.068058\n",
       "0                step  5.742761\n",
       "12           cos_hour  5.655061\n",
       "8              typeId  5.547062\n",
       "11           sin_hour  4.432513\n",
       "1              amount  2.549615\n",
       "16          amount_tr  2.540922\n",
       "9                 day  1.767640\n",
       "10            weekday  0.701380\n",
       "13        sin_weekday  0.701380\n",
       "14        cos_weekday  0.701380\n",
       "7       bal_diff_dest  0.444253\n",
       "20  newbalanceDest_tr  0.407763\n",
       "5      newbalanceDest  0.407277\n",
       "22   bal_diff_dest_tr  0.403969\n",
       "15               hour  0.360851\n",
       "19  oldbalanceDest_tr -0.398297\n",
       "4      oldbalanceDest -0.398873\n",
       "18  newbalanceOrig_tr -2.044978\n",
       "3      newbalanceOrig -2.045134"
      ]
     },
     "execution_count": 140,
     "metadata": {},
     "output_type": "execute_result"
    }
   ],
   "source": [
    "#After Box Cox Transformation\n",
    "iv_df"
   ]
  },
  {
   "cell_type": "markdown",
   "id": "80f0dee5",
   "metadata": {},
   "source": [
    "# Model Deployment"
   ]
  },
  {
   "cell_type": "markdown",
   "id": "019217c4",
   "metadata": {},
   "source": [
    "# Data Splitting\n",
    "\n",
    "## Train | Test Split and Scaling\n",
    "\n",
    "**TASK: Separate the features from the labels into 2 objects, X and y.**\n",
    "\n",
    "As our objective is to find the variables which are contributing towards the more fraud transaction prediction as well as 'bal_diff_orig' or 'diff_category' which is important.\n",
    "We dont required isFlaggedFraud as it is just an outcome of current algorithm.\n",
    "Here, we will take:-\n",
    "\n",
    "X= ['step', 'type', 'amount', 'oldbalanceOrg', 'newbalanceOrig','oldbalanceDest', 'newbalanceDest','dest_account', 'bal_diff_orig', 'bal_diff_dest','diff_category', 'typeId', 'errorBalanceOrig','errorBalanceDest']\n",
    "\n",
    "y= ['isFraud']"
   ]
  },
  {
   "cell_type": "code",
   "execution_count": 8,
   "id": "6f1b2019",
   "metadata": {
    "ExecuteTime": {
     "end_time": "2022-07-27T21:46:31.115353Z",
     "start_time": "2022-07-27T21:46:29.668987Z"
    }
   },
   "outputs": [],
   "source": [
    "new_df1= new_df[['step','amount_tr','oldbalanceOrg_tr','newbalanceOrig_tr','oldbalanceDest_tr','newbalanceDest_tr',\n",
    "                 'typeId', 'sin_hour', 'cos_hour', 'bal_diff_orig', 'day', 'weekday','Fraud_checkId']]"
   ]
  },
  {
   "cell_type": "code",
   "execution_count": 9,
   "id": "b89be31b",
   "metadata": {
    "ExecuteTime": {
     "end_time": "2022-07-27T21:46:34.019715Z",
     "start_time": "2022-07-27T21:46:32.949570Z"
    }
   },
   "outputs": [
    {
     "name": "stdout",
     "output_type": "stream",
     "text": [
      "X Shape: (6362620, 12)\n",
      "y Shape: (6362620,)\n"
     ]
    }
   ],
   "source": [
    "# Data Split for Predictors and Target\n",
    "X = new_df1.drop(['Fraud_checkId'], axis = 1)\n",
    "y = new_df1['Fraud_checkId']\n",
    "\n",
    "print('X Shape:', X.shape)\n",
    "print('y Shape:', y.shape)"
   ]
  },
  {
   "cell_type": "code",
   "execution_count": 10,
   "id": "f5c42cbe",
   "metadata": {
    "ExecuteTime": {
     "end_time": "2022-07-27T21:46:48.001643Z",
     "start_time": "2022-07-27T21:46:41.371066Z"
    }
   },
   "outputs": [
    {
     "name": "stdout",
     "output_type": "stream",
     "text": [
      "Training Data Shape: (4453834, 12) (4453834,)\n",
      "Testing Data Shape: (1908786, 12) (1908786,)\n"
     ]
    }
   ],
   "source": [
    "# Data splitting\n",
    "X_train, X_test, y_train, y_test = train_test_split(X, y, test_size = 0.3, random_state = 42, stratify = y)\n",
    "\n",
    "print('Training Data Shape:', X_train.shape, y_train.shape)\n",
    "print('Testing Data Shape:', X_test.shape, y_test.shape)"
   ]
  },
  {
   "cell_type": "markdown",
   "id": "590e7dd9",
   "metadata": {},
   "source": [
    "**Note:**\n",
    "- Having obtained evidence from the plots that the data now contains features that make fraudulent transactions clearly detectable.\n",
    "- Since the data is highly skewed, we use the area under the precision-recall curve (AUPRC) rather than the conventional area under the receiver operating characteristic (AUROC). This is because the AUPRC is more sensitive to differences between algorithms and their parameter settings rather than the AUROC\n",
    "\n",
    "\n",
    "## Model Accuracy\n",
    "We will check model performance on different evaluation of a machine learning model\n",
    "1. Confusion Matrix- The confusion matrix provides a base to define and develop any of the evaluation metrics. \n",
    "    True Positive: Actually positive (ground truth), predicted as positive (correctly classified)\n",
    "    True Negative: Actually negative (ground truth), predicted as negative (correctly classified)\n",
    "    False Positive: Actually negative (ground truth), predicted as positive (misclassified)\n",
    "    False Negative: Actually positive (ground truth), predicted as negative (misclassified)\n",
    "    \n",
    "2. Accuracy- Accuracy can also be defined as the ratio of the number of correctly classified cases to the total of cases under evaluation. The best value of accuracy is 1 and the worst value is 0.\n",
    "\n",
    "3. Precision- Precision can be defined with respect to either of the classes. The precision of negative class is intuitively the ability of the classifier not to label as positive a sample that is negative. The precision of positive class is intuitively the ability of the classifier not to label as negative a sample that is positive. The best value of precision is 1 and the worst value is 0.\n",
    "\n",
    "4. Recall- Recall can also be defined with respect to either of the classes. Recall of positive class is also termed sensitivity and is defined as the ratio of the True Positive to the number of actual positive cases. It can intuitively be expressed as the ability of the classifier to capture all the positive cases. It is also called the True Positive Rate (TPR).Recall of negative class is also termed specificity and is defined as the ratio of the True Negative to the number of actual negative cases. It can intuitively be expressed as the ability of the classifier to capture all the negative cases. It is also called True Negative Rate (TNR).The best value of recall is 1 and the worst value is 0. \n",
    "\n",
    "5. F1-score- F1-score is considered one of the best metrics for classification models regardless of class imbalance. F1-score is the weighted average of recall and precision of the respective class. Its best value is 1 and the worst value is 0.\n",
    "\n",
    "6. Precision-Recall Curve- The precision-recall curve is used for evaluating the performance of binary classification algorithms. It is often used in situations where classes are heavily imbalanced. Also like ROC curves, precision-recall curves provide a graphical representation of a classifier’s performance across many thresholds, rather than a single value (e.g., accuracy, f-1 score, etc.).Average precision is one way of calculating the area under the PR curve. Average precision indicates whether your model can correctly identify all the positive examples without accidentally marking too many negative examples as positive.\n",
    "\n",
    "7. Hamming Loss- Hamming loss is the fraction of targets that are misclassified. The best value of the hamming loss is 0 and the worst value is 1.\n",
    "\n",
    "8. Log-loss is indicative of how close the prediction probability is to the corresponding actual/true value (0 or 1 in case of binary classification). The more the predicted probability diverges from the actual value, the higher is the log-loss value. A Log Loss of 0.69 may be good in a multiclass problem, but very bad in a binary biased case. This figure is obtained by predicting p = 0.5 for any class of a binary problem.Log Loss would not be the best metric to use in that unbalanced case.\n",
    "\n",
    "9. An ROC curve shows the relationship between clinical sensitivity and specificity for every possible cut-off. The ROC curve is a graph with: The x-axis showing 1 – specificity (= false positive fraction = FP/(FP+TN)) The y-axis showing sensitivity (= true positive fraction = TP/(TP+FN)). For example, a decision tree determines the class of a leaf node from the proportion of instances at the node. Interpreting the ROC curve. The ROC curve shows the trade-off between sensitivity (or TPR) and specificity (1 – FPR). Classifiers that give curves closer to the top-left corner indicate a better performance.\n",
    "\n",
    "ROC or Receiver Operating Characteristic plot is used to visualise the performance of a binary classifier. It gives us the trade-off between the True Positive Rate (TPR) and the False Positive Rate (FPR) at different classification thresholds.\n",
    "\n",
    "True Positive Rate:\n",
    "True Positive Rate is the proportion of observations that are correctly predicted to be positive.\n",
    "\n",
    "False Positive Rate:\n",
    "False Positive Rate is the proportion of observations that are incorrectly predicted to be positive.\n",
    "\n",
    "## Model Building\n",
    "\n",
    "## Building ML models For classification\n",
    "\n",
    "1. Random Forest Classifier\n",
    "2. AdaBoostClassifier\n",
    "3. Extreme Gradient Boosting (XGBoost)"
   ]
  },
  {
   "cell_type": "code",
   "execution_count": 11,
   "id": "6f9bb0c4",
   "metadata": {
    "ExecuteTime": {
     "end_time": "2022-07-27T21:46:52.887320Z",
     "start_time": "2022-07-27T21:46:52.736622Z"
    }
   },
   "outputs": [],
   "source": [
    "#For Precision Recall Curve\n",
    "def PRCurve(model):\n",
    "  viz = PrecisionRecallCurve(model)\n",
    "  viz.fit(X_train, y_train)\n",
    "  avg_prec = viz.score(X_test, y_test)\n",
    "  plt.legend(labels = ['Binary PR Curve',\"AP=%.3f\"%avg_prec], loc = 'lower right', prop={'size': 14})\n",
    "  plt.xlabel(xlabel = 'Recall', size = 14)\n",
    "  plt.ylabel(ylabel = 'Precision', size = 14)\n",
    "  plt.title(label = 'Precision Recall Curve', size = 16)"
   ]
  },
  {
   "cell_type": "code",
   "execution_count": 12,
   "id": "8bcd052b",
   "metadata": {
    "ExecuteTime": {
     "end_time": "2022-07-27T21:46:55.007509Z",
     "start_time": "2022-07-27T21:46:54.784691Z"
    }
   },
   "outputs": [],
   "source": [
    "#multi-class log-loss\n",
    "def multiclass_logloss(actual, predicted, eps=1e-15):\n",
    "    \"\"\"Multi class version of Logarithmic Loss metric.\n",
    "    :param actual: Array containing the actual target classes\n",
    "    :param predicted: Matrix with class predictions, one probability per class\n",
    "    \"\"\"\n",
    "    # Convert 'actual' to a binary array if it's not already:\n",
    "    if len(actual.shape) == 1:\n",
    "        actual2 = np.zeros((actual.shape[0], predicted.shape[1]))\n",
    "        for i, val in enumerate(actual):\n",
    "            actual2[i, val] = 1\n",
    "        actual = actual2\n",
    "\n",
    "    clip = np.clip(predicted, eps, 1 - eps)\n",
    "    rows = actual.shape[0]\n",
    "    vsota = np.sum(actual * np.log(clip))\n",
    "    return -1.0 / rows * vsota"
   ]
  },
  {
   "cell_type": "code",
   "execution_count": 15,
   "id": "fac589e7",
   "metadata": {
    "ExecuteTime": {
     "end_time": "2022-07-27T21:55:46.284364Z",
     "start_time": "2022-07-27T21:55:46.078940Z"
    }
   },
   "outputs": [],
   "source": [
    "# Choosing the best model\n",
    "Accuracy_cfm = []\n",
    "Precision_cfm = []\n",
    "Recall_cfm = []\n",
    "Fscore_cfm =[]\n",
    "logloss_cfm =[]\n",
    "scores_neural=[]\n",
    "hamming_loss_cfm=[]\n",
    "loss_neural=[]"
   ]
  },
  {
   "cell_type": "markdown",
   "id": "3c3905d9",
   "metadata": {},
   "source": [
    "# 1. Random Forest Classifier"
   ]
  },
  {
   "cell_type": "code",
   "execution_count": 16,
   "id": "f8ee70ee",
   "metadata": {
    "ExecuteTime": {
     "end_time": "2022-07-27T22:01:45.692851Z",
     "start_time": "2022-07-27T21:57:09.188403Z"
    }
   },
   "outputs": [
    {
     "name": "stdout",
     "output_type": "stream",
     "text": [
      "Accuracy Score (Train Data): 0.999\n",
      "Accuracy Score (Test Data): 0.999\n",
      "              precision    recall  f1-score   support\n",
      "\n",
      "       False       1.00      1.00      1.00   1906342\n",
      "        True       0.98      0.37      0.54      2444\n",
      "\n",
      "    accuracy                           1.00   1908786\n",
      "   macro avg       0.99      0.69      0.77   1908786\n",
      "weighted avg       1.00      1.00      1.00   1908786\n",
      "\n"
     ]
    },
    {
     "data": {
      "image/png": "[encoded data removed]",
      "text/plain": [
       "<Figure size 720x576 with 1 Axes>"
      ]
     },
     "metadata": {
      "needs_background": "light"
     },
     "output_type": "display_data"
    },
    {
     "name": "stdout",
     "output_type": "stream",
     "text": [
      "No Skill: ROC AUC=0.500\n",
      "Random Forest Classifier: ROC AUC=0.971\n"
     ]
    },
    {
     "data": {
      "image/png": "[encoded data removed]",
      "text/plain": [
       "<Figure size 432x288 with 1 Axes>"
      ]
     },
     "metadata": {
      "needs_background": "light"
     },
     "output_type": "display_data"
    },
    {
     "name": "stdout",
     "output_type": "stream",
     "text": [
      "Confusion Matrix \n",
      " [[1906323      19]\n",
      " [   1535     909]]\n"
     ]
    }
   ],
   "source": [
    "rfc = RandomForestClassifier(n_estimators = 100, max_depth = 5, random_state = 42, n_jobs = -1)\n",
    "rfc.fit(X_train, y_train)\n",
    "y_pred = rfc.predict(X_test)\n",
    "#Predict Probabilities\n",
    "y_prob= rfc.predict_proba(X_test)\n",
    "\n",
    "print('Accuracy Score (Train Data):', np.round(rfc.score(X_train, y_train), decimals = 3))\n",
    "print('Accuracy Score (Test Data):', np.round(rfc.score(X_test, y_test), decimals = 3))\n",
    "\n",
    "base_random_forest_report = classification_report(y_test, y_pred)\n",
    "print(base_random_forest_report)\n",
    "\n",
    "#Plot PR CURVE\n",
    "plt.figure(figsize = [10, 8])\n",
    "PRCurve(model = rfc)\n",
    "plt.show()\n",
    "\n",
    "#Plot ROC CURVE\n",
    "# generate a no skill prediction (majority class)\n",
    "ns_probs = [0 for _ in range(len(y_test))]\n",
    "# keep probabilities for the positive outcome only\n",
    "y_prob1 = y_prob[:, 1]\n",
    "# calculate scores\n",
    "ns_auc = roc_auc_score(y_test, ns_probs)\n",
    "rfc_auc = roc_auc_score(y_test, y_prob1)\n",
    "# summarize scores\n",
    "print('No Skill: ROC AUC=%.3f' % (ns_auc))\n",
    "print('Random Forest Classifier: ROC AUC=%.3f' % (rfc_auc))\n",
    "# calculate roc curves\n",
    "ns_fpr, ns_tpr, _ = roc_curve(y_test, ns_probs)\n",
    "rfc_fpr, rfc_tpr, _ = roc_curve(y_test, y_prob1)\n",
    "# plot the roc curve for the model\n",
    "pyplot.plot(ns_fpr, ns_tpr, linestyle='--', label='No Skill')\n",
    "pyplot.plot(rfc_fpr, rfc_tpr, marker='.', label='RFClassifier')\n",
    "# axis labels\n",
    "pyplot.xlabel('False Positive Rate')\n",
    "pyplot.ylabel('True Positive Rate')\n",
    "# show the legend\n",
    "pyplot.legend()\n",
    "# show the plot\n",
    "pyplot.show()\n",
    "\n",
    "#confusion Matrix\n",
    "conf_matrix_rf= metrics.confusion_matrix(y_test, y_pred)\n",
    "print('Confusion Matrix \\n', conf_matrix_rf)\n",
    "\n",
    "#PLotting Learning curves for Machine Algorithms\n",
    "#print(learning_curve(rfc, X_train, y_train, cv=10, scoring='accuracy'))\n",
    "\n",
    "#Report save\n",
    "#Accuracy\n",
    "Accuracy_cfm.append(metrics.accuracy_score(y_test, y_pred) * 100)\n",
    "#Precision\n",
    "# Precision = TP / (TP + FP) (Where TP = True Positive, TN = True Negative, FP = False Positive, FN = False Negative).\n",
    "Precision_cfm.append(precision_score(y_test, y_pred, pos_label=1))\n",
    "#Recall\n",
    "# Recall = TP / (TP + FN)\n",
    "Recall_cfm.append(recall_score(y_test, y_pred, pos_label=1))\n",
    "#f1-score\n",
    "# F - scores are a statistical method for determining accuracy accounting for both precision and recall.\n",
    "Fscore_cfm.append(f1_score(y_test, y_pred, pos_label=1))\n",
    "#logloss\n",
    "logloss_cfm.append(multiclass_logloss(y_test, y_prob))\n",
    "#hammingloss\n",
    "hamming_loss_cfm.append(metrics.hamming_loss(y_test, y_pred))"
   ]
  },
  {
   "cell_type": "markdown",
   "id": "b240517d",
   "metadata": {},
   "source": [
    "#### Inferences:\n",
    "* The Precision Recall Curve is not quit good. \n",
    "* We got the accuracy of 100% but the f1 score is very less.\n",
    "* Confusion Matrix is also showing alot in False Negative and False Positive"
   ]
  },
  {
   "cell_type": "markdown",
   "id": "a5914d4a",
   "metadata": {},
   "source": [
    "# 2. AdaBoost Classifier"
   ]
  },
  {
   "cell_type": "code",
   "execution_count": 20,
   "id": "b52a4447",
   "metadata": {
    "ExecuteTime": {
     "end_time": "2022-07-27T23:16:11.029441Z",
     "start_time": "2022-07-27T22:29:24.143843Z"
    }
   },
   "outputs": [
    {
     "name": "stdout",
     "output_type": "stream",
     "text": [
      "Accuracy Score (Train Data): 1.0\n",
      "Accuracy Score (Test Data): 1.0\n",
      "              precision    recall  f1-score   support\n",
      "\n",
      "       False       1.00      1.00      1.00   1906342\n",
      "        True       0.93      0.88      0.91      2444\n",
      "\n",
      "    accuracy                           1.00   1908786\n",
      "   macro avg       0.97      0.94      0.95   1908786\n",
      "weighted avg       1.00      1.00      1.00   1908786\n",
      "\n"
     ]
    },
    {
     "data": {
      "image/png": "[encoded data removed]",
      "text/plain": [
       "<Figure size 720x576 with 1 Axes>"
      ]
     },
     "metadata": {
      "needs_background": "light"
     },
     "output_type": "display_data"
    },
    {
     "name": "stdout",
     "output_type": "stream",
     "text": [
      "No Skill: ROC AUC=0.500\n",
      "Random Forest Classifier: ROC AUC=0.999\n"
     ]
    },
    {
     "data": {
      "image/png": "[encoded data removed]",
      "text/plain": [
       "<Figure size 432x288 with 1 Axes>"
      ]
     },
     "metadata": {
      "needs_background": "light"
     },
     "output_type": "display_data"
    },
    {
     "name": "stdout",
     "output_type": "stream",
     "text": [
      "Confusion Matrix \n",
      " [[1906192     150]\n",
      " [    296    2148]]\n"
     ]
    }
   ],
   "source": [
    "# Create adaboost classifer object\n",
    "dtc = DecisionTreeClassifier(random_state = 42, max_depth = 5)\n",
    "abc = AdaBoostClassifier(n_estimators=50, learning_rate=1, base_estimator=dtc)\n",
    "# Train Adaboost Classifer\n",
    "abc.fit(X_train, y_train)\n",
    "#Predict the response for test dataset\n",
    "y_pred = abc.predict(X_test)\n",
    "y_prob= abc.predict_proba(X_test)\n",
    "\n",
    "print('Accuracy Score (Train Data):', np.round(abc.score(X_train, y_train), decimals = 3))\n",
    "print('Accuracy Score (Test Data):', np.round(abc.score(X_test, y_test), decimals = 3))\n",
    "\n",
    "base_adaboost = classification_report(y_test, y_pred)\n",
    "print(base_adaboost)\n",
    "\n",
    "plt.figure(figsize = [10, 8])\n",
    "PRCurve(model = rfc)\n",
    "plt.show()\n",
    "\n",
    "#Plot ROC CURVE\n",
    "# generate a no skill prediction (majority class)\n",
    "ns_probs = [0 for _ in range(len(y_test))]\n",
    "# keep probabilities for the positive outcome only\n",
    "y_prob1 = y_prob[:, 1]\n",
    "# calculate scores\n",
    "ns_auc = roc_auc_score(y_test, ns_probs)\n",
    "ada_auc = roc_auc_score(y_test, y_prob1)\n",
    "# summarize scores\n",
    "print('No Skill: ROC AUC=%.3f' % (ns_auc))\n",
    "print('Random Forest Classifier: ROC AUC=%.3f' % (ada_auc))\n",
    "# calculate roc curves\n",
    "ns_fpr, ns_tpr, _ = roc_curve(y_test, ns_probs)\n",
    "ada_fpr, ada_tpr, _ = roc_curve(y_test, y_prob1)\n",
    "# plot the roc curve for the model\n",
    "pyplot.plot(ns_fpr, ns_tpr, linestyle='--', label='No Skill')\n",
    "pyplot.plot(ada_fpr, ada_tpr, marker='.', label='AdaBoostClassifier')\n",
    "# axis labels\n",
    "pyplot.xlabel('False Positive Rate')\n",
    "pyplot.ylabel('True Positive Rate')\n",
    "# show the legend\n",
    "pyplot.legend()\n",
    "# show the plot\n",
    "pyplot.show()\n",
    "\n",
    "#confusion Matrix\n",
    "conf_matrix_abc= metrics.confusion_matrix(y_test, y_pred)\n",
    "print('Confusion Matrix \\n', conf_matrix_abc)\n",
    "\n",
    "#PLotting Learning curves for Machine Algorithms\n",
    "#print(learning_curve(abc, X_train, y_train, cv=10, scoring='accuracy'))\n",
    "\n",
    "#Report save\n",
    "#Accuracy\n",
    "Accuracy_cfm.append(metrics.accuracy_score(y_test, y_pred) * 100)\n",
    "#Precision\n",
    "# Precision = TP / (TP + FP) (Where TP = True Positive, TN = True Negative, FP = False Positive, FN = False Negative).\n",
    "Precision_cfm.append(precision_score(y_test, y_pred, pos_label=1))\n",
    "#Recall\n",
    "# Recall = TP / (TP + FN)\n",
    "Recall_cfm.append(recall_score(y_test, y_pred, pos_label=1))\n",
    "#f1-score\n",
    "# F - scores are a statistical method for determining accuracy accounting for both precision and recall.\n",
    "Fscore_cfm.append(f1_score(y_test, y_pred, pos_label=1))\n",
    "#logloss\n",
    "logloss_cfm.append(multiclass_logloss(y_test, y_prob))\n",
    "#hammingloss\n",
    "hamming_loss_cfm.append(metrics.hamming_loss(y_test, y_pred))"
   ]
  },
  {
   "cell_type": "markdown",
   "id": "f6b051d0",
   "metadata": {},
   "source": [
    "#### Inference:\n",
    "* The model has shown better result than the first one the accuracy is 100% but the f1 score is better than the previous one.\n",
    "* Confusion Matrix is also better than the previous one.\n",
    "* ROC Curve has also shown better result."
   ]
  },
  {
   "cell_type": "markdown",
   "id": "961c1866",
   "metadata": {},
   "source": [
    "# 3. Extreme Gradient Boosting (XGBoost)"
   ]
  },
  {
   "cell_type": "code",
   "execution_count": 21,
   "id": "c9b6b382",
   "metadata": {
    "ExecuteTime": {
     "end_time": "2022-07-27T23:21:49.911570Z",
     "start_time": "2022-07-27T23:18:37.321555Z"
    }
   },
   "outputs": [
    {
     "name": "stdout",
     "output_type": "stream",
     "text": [
      "Accuracy Score (Train Data): 1.0\n",
      "Accuracy Score (Test Data): 1.0\n",
      "              precision    recall  f1-score   support\n",
      "\n",
      "       False       1.00      1.00      1.00   1906342\n",
      "        True       0.97      0.87      0.92      2444\n",
      "\n",
      "    accuracy                           1.00   1908786\n",
      "   macro avg       0.99      0.94      0.96   1908786\n",
      "weighted avg       1.00      1.00      1.00   1908786\n",
      "\n"
     ]
    },
    {
     "data": {
      "image/png": "[encoded data removed]",
      "text/plain": [
       "<Figure size 720x576 with 1 Axes>"
      ]
     },
     "metadata": {
      "needs_background": "light"
     },
     "output_type": "display_data"
    },
    {
     "name": "stdout",
     "output_type": "stream",
     "text": [
      "No Skill: ROC AUC=0.500\n",
      "Random Forest Classifier: ROC AUC=1.000\n"
     ]
    },
    {
     "data": {
      "image/png": "[encoded data removed]",
      "text/plain": [
       "<Figure size 432x288 with 1 Axes>"
      ]
     },
     "metadata": {
      "needs_background": "light"
     },
     "output_type": "display_data"
    },
    {
     "name": "stdout",
     "output_type": "stream",
     "text": [
      "Confusion Matrix \n",
      " [[1906277      65]\n",
      " [    314    2130]]\n"
     ]
    }
   ],
   "source": [
    "base_clf = XGBClassifier(max_depth = 5, n_jobs = -1, random_state = 42)\n",
    "base_clf.fit(X_train, y_train)\n",
    "y_pred = base_clf.predict(X_test)\n",
    "y_prob= base_clf.predict_proba(X_test)\n",
    "\n",
    "print('Accuracy Score (Train Data):', np.round(base_clf.score(X_train, y_train), decimals = 3))\n",
    "print('Accuracy Score (Test Data):', np.round(base_clf.score(X_test, y_test), decimals = 3))\n",
    "\n",
    "base_XGB_report = classification_report(y_test, y_pred)\n",
    "print(base_XGB_report)\n",
    "\n",
    "plt.figure(figsize = [10, 8])\n",
    "PRCurve(model = base_clf)\n",
    "plt.show()\n",
    "\n",
    "#Plot ROC CURVE\n",
    "# generate a no skill prediction (majority class)\n",
    "ns_probs = [0 for _ in range(len(y_test))]\n",
    "# keep probabilities for the positive outcome only\n",
    "y_prob1 = y_prob[:, 1]\n",
    "# calculate scores\n",
    "ns_auc = roc_auc_score(y_test, ns_probs)\n",
    "xgb_auc = roc_auc_score(y_test, y_prob1)\n",
    "# summarize scores\n",
    "print('No Skill: ROC AUC=%.3f' % (ns_auc))\n",
    "print('Random Forest Classifier: ROC AUC=%.3f' % (xgb_auc))\n",
    "# calculate roc curves\n",
    "ns_fpr, ns_tpr, _ = roc_curve(y_test, ns_probs)\n",
    "xgb_fpr, xgb_tpr, _ = roc_curve(y_test, y_prob1)\n",
    "# plot the roc curve for the model\n",
    "pyplot.plot(ns_fpr, ns_tpr, linestyle='--', label='No Skill')\n",
    "pyplot.plot(xgb_fpr, xgb_tpr, marker='.', label='XGBClassifier')\n",
    "# axis labels\n",
    "pyplot.xlabel('False Positive Rate')\n",
    "pyplot.ylabel('True Positive Rate')\n",
    "# show the legend\n",
    "pyplot.legend()\n",
    "# show the plot\n",
    "pyplot.show()\n",
    "\n",
    "#confusion Matrix\n",
    "conf_matrix_xgb= metrics.confusion_matrix(y_test, y_pred)\n",
    "print('Confusion Matrix \\n', conf_matrix_xgb)\n",
    "\n",
    "#PLotting Learning curves for Machine Algorithms\n",
    "#print(learning_curve(base_clf, X_train, y_train, cv=10, scoring='accuracy'))\n",
    "\n",
    "#Report save\n",
    "#Accuracy\n",
    "Accuracy_cfm.append(metrics.accuracy_score(y_test, y_pred) * 100)\n",
    "#Precision\n",
    "# Precision = TP / (TP + FP) (Where TP = True Positive, TN = True Negative, FP = False Positive, FN = False Negative).\n",
    "Precision_cfm.append(precision_score(y_test, y_pred, pos_label=1))\n",
    "#Recall\n",
    "# Recall = TP / (TP + FN)\n",
    "Recall_cfm.append(recall_score(y_test, y_pred, pos_label=1))\n",
    "#f1-score\n",
    "# F - scores are a statistical method for determining accuracy accounting for both precision and recall.\n",
    "Fscore_cfm.append(f1_score(y_test, y_pred, pos_label=1))\n",
    "#logloss\n",
    "logloss_cfm.append(multiclass_logloss(y_test, y_prob))\n",
    "#hammingloss\n",
    "hamming_loss_cfm.append(metrics.hamming_loss(y_test, y_pred))"
   ]
  },
  {
   "cell_type": "markdown",
   "id": "244ba207",
   "metadata": {},
   "source": [
    "#### Inference:\n",
    "* Well the accuracy of the model is same but here the f1 score is more better than the previous one.\n",
    "* ROC Curve is showing that the model has predicted the best result."
   ]
  },
  {
   "cell_type": "markdown",
   "id": "158ee620",
   "metadata": {},
   "source": [
    "# ROC Curve between Models"
   ]
  },
  {
   "cell_type": "code",
   "execution_count": 22,
   "id": "bfd71a5e",
   "metadata": {
    "ExecuteTime": {
     "end_time": "2022-07-27T23:23:45.903083Z",
     "start_time": "2022-07-27T23:23:22.880444Z"
    }
   },
   "outputs": [
    {
     "data": {
      "image/png": "[encoded data removed]",
      "text/plain": [
       "<Figure size 864x576 with 1 Axes>"
      ]
     },
     "metadata": {
      "needs_background": "light"
     },
     "output_type": "display_data"
    }
   ],
   "source": [
    "# Calculate FPR, TPR, THRESHOLD for Random Forest Classifier \n",
    "y_pred_probarfc = rfc.predict_proba(X_test)[:,1]\n",
    "fprrfc, tprrfc, thresholdsrfc = roc_curve(y_test, y_pred_probarfc)\n",
    "\n",
    "# Calculate FPR, TPR, THRESHOLD for Ada Boost Classifier \n",
    "y_pred_probaabc = abc.predict_proba(X_test)[:,1]\n",
    "fprabc, tprabc, thresholdsabc = roc_curve(y_test, y_pred_probaabc)\n",
    "\n",
    "# Calculate FPR, TPR, THRESHOLD for XGB Classifier \n",
    "y_pred_probarf = base_clf.predict_proba(X_test)[:,1]\n",
    "fprxgb, tprxgb, thresholdsxgb = roc_curve(y_test, y_pred_probarf)\n",
    "\n",
    "roc_plot_df = pd.DataFrame({\n",
    "    \"FPR\": [fprrfc, fprabc, fprxgb],\n",
    "    \"TPR\": [tprrfc, tprabc, tprxgb],\n",
    "})\n",
    "\n",
    "\n",
    "fig, ax = plt.subplots(figsize=(12, 8))\n",
    "ax.plot(fprrfc,tprrfc)\n",
    "ax.plot(fprabc,tprabc)\n",
    "ax.plot(fprxgb,tprxgb)\n",
    "ax.plot([0,1],[0,1],'k--')\n",
    "ax.grid(True)\n",
    "ax.set_title('Fpr vs Tpr plot')\n",
    "ax.legend(['Random_Forest_Classifier', 'Ada_Boost_Classifier', 'XGB_Classifier'])\n",
    "ax.xaxis.set_label_text('Fpr Value')\n",
    "ax.yaxis.set_label_text('Tpr Value')\n",
    "\n",
    "plt.show()\n",
    "\n"
   ]
  },
  {
   "cell_type": "markdown",
   "id": "d437b5b9",
   "metadata": {},
   "source": [
    "#### Inference:\n",
    "* XGB Classifier is showing best ROC Curve that is the model has predicted correctly. TPR is high that is observations that are correctly predicted to be positive.\n",
    "* The theoretical range of the AUC ROC curve score is between 0 and 1, the actual scores of meaningful classifiers are greater than 0.5, which is the AUC ROC curve score of a random classifier."
   ]
  },
  {
   "cell_type": "markdown",
   "id": "8e68e249",
   "metadata": {},
   "source": [
    "# Ensemble methods based fraud detection—results"
   ]
  },
  {
   "cell_type": "code",
   "execution_count": 23,
   "id": "8953a2d8",
   "metadata": {
    "ExecuteTime": {
     "end_time": "2022-07-27T23:24:04.680126Z",
     "start_time": "2022-07-27T23:24:04.259366Z"
    }
   },
   "outputs": [
    {
     "data": {
      "text/html": [
       "<div>\n",
       "<style scoped>\n",
       "    .dataframe tbody tr th:only-of-type {\n",
       "        vertical-align: middle;\n",
       "    }\n",
       "\n",
       "    .dataframe tbody tr th {\n",
       "        vertical-align: top;\n",
       "    }\n",
       "\n",
       "    .dataframe thead th {\n",
       "        text-align: right;\n",
       "    }\n",
       "</style>\n",
       "<table border=\"1\" class=\"dataframe\">\n",
       "  <thead>\n",
       "    <tr style=\"text-align: right;\">\n",
       "      <th></th>\n",
       "      <th>Model</th>\n",
       "      <th>TN</th>\n",
       "      <th>FP</th>\n",
       "      <th>FN</th>\n",
       "      <th>TP</th>\n",
       "    </tr>\n",
       "  </thead>\n",
       "  <tbody>\n",
       "    <tr>\n",
       "      <th>0</th>\n",
       "      <td>Random Forest Classifier</td>\n",
       "      <td>1906323</td>\n",
       "      <td>19</td>\n",
       "      <td>1535</td>\n",
       "      <td>909</td>\n",
       "    </tr>\n",
       "    <tr>\n",
       "      <th>1</th>\n",
       "      <td>Ada Boost Classifier</td>\n",
       "      <td>1906192</td>\n",
       "      <td>150</td>\n",
       "      <td>296</td>\n",
       "      <td>2148</td>\n",
       "    </tr>\n",
       "    <tr>\n",
       "      <th>2</th>\n",
       "      <td>XGB Classifier</td>\n",
       "      <td>1906277</td>\n",
       "      <td>65</td>\n",
       "      <td>314</td>\n",
       "      <td>2130</td>\n",
       "    </tr>\n",
       "  </tbody>\n",
       "</table>\n",
       "</div>"
      ],
      "text/plain": [
       "                      Model       TN   FP    FN    TP\n",
       "0  Random Forest Classifier  1906323   19  1535   909\n",
       "1      Ada Boost Classifier  1906192  150   296  2148\n",
       "2            XGB Classifier  1906277   65   314  2130"
      ]
     },
     "execution_count": 23,
     "metadata": {},
     "output_type": "execute_result"
    }
   ],
   "source": [
    "TN = [conf_matrix_rf[0,0], conf_matrix_abc[0,0], conf_matrix_xgb[0,0]]\n",
    "FP = [conf_matrix_rf[0,1], conf_matrix_abc[0,1], conf_matrix_xgb[0,1]]\n",
    "FN = [conf_matrix_rf[1,0], conf_matrix_abc[1,0], conf_matrix_xgb[1,0]]\n",
    "TP = [conf_matrix_rf[1,1], conf_matrix_abc[1,1], conf_matrix_xgb[1,1]]\n",
    "\n",
    "Classification = [\"Random Forest Classifier\", \"Ada Boost Classifier\", \n",
    "                  \"XGB Classifier\"]\n",
    "list_matrix = [Classification, TN, FP, FN, TP]\n",
    "list_headers = [\"Model\", \"TN\", \"FP\", \"FN\", \"TP\"]\n",
    "zipped = list(zip(list_headers, list_matrix))\n",
    "data_dict = dict(zipped)\n",
    "cm_table=pd.DataFrame(data_dict)\n",
    "cm_table"
   ]
  },
  {
   "cell_type": "code",
   "execution_count": 24,
   "id": "07360ad4",
   "metadata": {
    "ExecuteTime": {
     "end_time": "2022-07-27T23:24:26.848641Z",
     "start_time": "2022-07-27T23:24:26.841804Z"
    }
   },
   "outputs": [],
   "source": [
    "rf_cm= conf_matrix_rf/np.sum(conf_matrix_rf)\n",
    "abc_cm= conf_matrix_abc/np.sum(conf_matrix_abc)\n",
    "xgb_cm= conf_matrix_xgb/np.sum(conf_matrix_xgb)"
   ]
  },
  {
   "cell_type": "code",
   "execution_count": 25,
   "id": "b9161671",
   "metadata": {
    "ExecuteTime": {
     "end_time": "2022-07-27T23:24:31.842328Z",
     "start_time": "2022-07-27T23:24:31.825376Z"
    }
   },
   "outputs": [
    {
     "data": {
      "text/html": [
       "<div>\n",
       "<style scoped>\n",
       "    .dataframe tbody tr th:only-of-type {\n",
       "        vertical-align: middle;\n",
       "    }\n",
       "\n",
       "    .dataframe tbody tr th {\n",
       "        vertical-align: top;\n",
       "    }\n",
       "\n",
       "    .dataframe thead th {\n",
       "        text-align: right;\n",
       "    }\n",
       "</style>\n",
       "<table border=\"1\" class=\"dataframe\">\n",
       "  <thead>\n",
       "    <tr style=\"text-align: right;\">\n",
       "      <th></th>\n",
       "      <th>Model</th>\n",
       "      <th>TN</th>\n",
       "      <th>FP</th>\n",
       "      <th>FN</th>\n",
       "      <th>TP</th>\n",
       "    </tr>\n",
       "  </thead>\n",
       "  <tbody>\n",
       "    <tr>\n",
       "      <th>0</th>\n",
       "      <td>Random Forest Classifier</td>\n",
       "      <td>0.998710</td>\n",
       "      <td>0.000010</td>\n",
       "      <td>0.000804</td>\n",
       "      <td>0.000476</td>\n",
       "    </tr>\n",
       "    <tr>\n",
       "      <th>1</th>\n",
       "      <td>Ada Boost Classifier</td>\n",
       "      <td>0.998641</td>\n",
       "      <td>0.000079</td>\n",
       "      <td>0.000155</td>\n",
       "      <td>0.001125</td>\n",
       "    </tr>\n",
       "    <tr>\n",
       "      <th>2</th>\n",
       "      <td>XGB Classifier</td>\n",
       "      <td>0.998686</td>\n",
       "      <td>0.000034</td>\n",
       "      <td>0.000165</td>\n",
       "      <td>0.001116</td>\n",
       "    </tr>\n",
       "  </tbody>\n",
       "</table>\n",
       "</div>"
      ],
      "text/plain": [
       "                      Model        TN        FP        FN        TP\n",
       "0  Random Forest Classifier  0.998710  0.000010  0.000804  0.000476\n",
       "1      Ada Boost Classifier  0.998641  0.000079  0.000155  0.001125\n",
       "2            XGB Classifier  0.998686  0.000034  0.000165  0.001116"
      ]
     },
     "execution_count": 25,
     "metadata": {},
     "output_type": "execute_result"
    }
   ],
   "source": [
    "#In Percentage\n",
    "TN = [rf_cm[0,0], abc_cm[0,0], xgb_cm[0,0]]\n",
    "FP = [rf_cm[0,1], abc_cm[0,1], xgb_cm[0,1]]\n",
    "FN = [rf_cm[1,0], abc_cm[1,0], xgb_cm[1,0]]\n",
    "TP = [rf_cm[1,1], abc_cm[1,1], xgb_cm[1,1]]\n",
    "\n",
    "Classification = [\"Random Forest Classifier\", \"Ada Boost Classifier\",\"XGB Classifier\"]\n",
    "list_matrix = [Classification, TN, FP, FN, TP]\n",
    "list_headers = [\"Model\", \"TN\", \"FP\", \"FN\", \"TP\"]\n",
    "zipped = list(zip(list_headers, list_matrix))\n",
    "data_dict1 = dict(zipped)\n",
    "cm_table_prcnt=pd.DataFrame(data_dict1)\n",
    "cm_table_prcnt"
   ]
  },
  {
   "cell_type": "markdown",
   "id": "9c4a70ea",
   "metadata": {},
   "source": [
    "#### Inference:\n",
    "* The false positive and false negative is less under XGB Classifier allover. The TN and TP is quite satisfactory."
   ]
  },
  {
   "cell_type": "markdown",
   "id": "c3b8b8aa",
   "metadata": {},
   "source": [
    "## Evaluation on the Model Classification Report"
   ]
  },
  {
   "cell_type": "code",
   "execution_count": 26,
   "id": "48129f7b",
   "metadata": {
    "ExecuteTime": {
     "end_time": "2022-07-27T23:30:09.264023Z",
     "start_time": "2022-07-27T23:30:09.157574Z"
    }
   },
   "outputs": [],
   "source": [
    "result_df_scale_1= pd.DataFrame(Accuracy_cfm, index= [\"Random Forest Classifier\", \"Ada Boost Classifier\",\"XGB Classifier\"], \n",
    "                              columns=['Accuracy']) \n",
    "result_df_scale_2= pd.DataFrame(Precision_cfm, index= [\"Random Forest Classifier\", \"Ada Boost Classifier\",\"XGB Classifier\"], \n",
    "                              columns=['Precision'])\n",
    "result_df_scale_3= pd.DataFrame(Recall_cfm, index= [\"Random Forest Classifier\", \"Ada Boost Classifier\",\"XGB Classifier\"], \n",
    "                              columns=['Recall'])\n",
    "result_df_scale_4= pd.DataFrame(Fscore_cfm, index= [\"Random Forest Classifier\", \"Ada Boost Classifier\",\"XGB Classifier\"], \n",
    "                              columns=['F_score'])\n",
    "result_df_scale_5= pd.DataFrame(logloss_cfm, index= [\"Random Forest Classifier\", \"Ada Boost Classifier\",\"XGB Classifier\"], \n",
    "                              columns=['log-loss'])\n",
    "result_df_scale_6= pd.DataFrame(hamming_loss_cfm, index= [\"Random Forest Classifier\", \"Ada Boost Classifier\",\"XGB Classifier\"], \n",
    "                              columns=['Hamming_loss'])"
   ]
  },
  {
   "cell_type": "code",
   "execution_count": 27,
   "id": "1e108552",
   "metadata": {
    "ExecuteTime": {
     "end_time": "2022-07-27T23:30:16.032918Z",
     "start_time": "2022-07-27T23:30:16.017772Z"
    }
   },
   "outputs": [],
   "source": [
    "Model_scale = pd.concat([result_df_scale_1, result_df_scale_2, result_df_scale_3, \n",
    "                         result_df_scale_4, result_df_scale_5, result_df_scale_6], axis=1)"
   ]
  },
  {
   "cell_type": "code",
   "execution_count": 28,
   "id": "d9befe63",
   "metadata": {
    "ExecuteTime": {
     "end_time": "2022-07-27T23:30:39.482883Z",
     "start_time": "2022-07-27T23:30:39.407345Z"
    }
   },
   "outputs": [
    {
     "data": {
      "text/html": [
       "<div>\n",
       "<style scoped>\n",
       "    .dataframe tbody tr th:only-of-type {\n",
       "        vertical-align: middle;\n",
       "    }\n",
       "\n",
       "    .dataframe tbody tr th {\n",
       "        vertical-align: top;\n",
       "    }\n",
       "\n",
       "    .dataframe thead th {\n",
       "        text-align: right;\n",
       "    }\n",
       "</style>\n",
       "<table border=\"1\" class=\"dataframe\">\n",
       "  <thead>\n",
       "    <tr style=\"text-align: right;\">\n",
       "      <th></th>\n",
       "      <th>Accuracy</th>\n",
       "      <th>Precision</th>\n",
       "      <th>Recall</th>\n",
       "      <th>F_score</th>\n",
       "      <th>log-loss</th>\n",
       "      <th>Hamming_loss</th>\n",
       "    </tr>\n",
       "  </thead>\n",
       "  <tbody>\n",
       "    <tr>\n",
       "      <th>XGB Classifier</th>\n",
       "      <td>99.980144</td>\n",
       "      <td>0.970387</td>\n",
       "      <td>0.871522</td>\n",
       "      <td>0.918301</td>\n",
       "      <td>0.007446</td>\n",
       "      <td>0.000199</td>\n",
       "    </tr>\n",
       "    <tr>\n",
       "      <th>Ada Boost Classifier</th>\n",
       "      <td>99.976634</td>\n",
       "      <td>0.934726</td>\n",
       "      <td>0.878887</td>\n",
       "      <td>0.905947</td>\n",
       "      <td>0.001950</td>\n",
       "      <td>0.000234</td>\n",
       "    </tr>\n",
       "    <tr>\n",
       "      <th>Random Forest Classifier</th>\n",
       "      <td>99.918587</td>\n",
       "      <td>0.979526</td>\n",
       "      <td>0.371931</td>\n",
       "      <td>0.539146</td>\n",
       "      <td>0.004716</td>\n",
       "      <td>0.000814</td>\n",
       "    </tr>\n",
       "  </tbody>\n",
       "</table>\n",
       "</div>"
      ],
      "text/plain": [
       "                           Accuracy  Precision    Recall   F_score  log-loss  \\\n",
       "XGB Classifier            99.980144   0.970387  0.871522  0.918301  0.007446   \n",
       "Ada Boost Classifier      99.976634   0.934726  0.878887  0.905947  0.001950   \n",
       "Random Forest Classifier  99.918587   0.979526  0.371931  0.539146  0.004716   \n",
       "\n",
       "                          Hamming_loss  \n",
       "XGB Classifier                0.000199  \n",
       "Ada Boost Classifier          0.000234  \n",
       "Random Forest Classifier      0.000814  "
      ]
     },
     "execution_count": 28,
     "metadata": {},
     "output_type": "execute_result"
    }
   ],
   "source": [
    "Model_scale.sort_values(by=['Accuracy'], ascending=False)"
   ]
  },
  {
   "cell_type": "markdown",
   "id": "5182be48",
   "metadata": {},
   "source": [
    "#### Inference:\n",
    "* So allover XGB Classifier is giving us best accuracy and F1 score, log-loss & hamming loss are best in this model. \n",
    "\n",
    "**So, For our final model we will take XGB Classifier.**"
   ]
  },
  {
   "cell_type": "markdown",
   "id": "3e7e4552",
   "metadata": {},
   "source": [
    "# Finalizing Model Choice & Full Training\n",
    "\n",
    "So, from all the above model we came to know that XGB Classifier is giving us good accuracy with least Hamming loss and well log-loss value."
   ]
  },
  {
   "cell_type": "code",
   "execution_count": 29,
   "id": "413957a3",
   "metadata": {
    "ExecuteTime": {
     "end_time": "2022-07-27T23:31:46.705904Z",
     "start_time": "2022-07-27T23:31:46.688875Z"
    }
   },
   "outputs": [],
   "source": [
    "XGB_class= XGBClassifier(max_depth = 5, n_jobs = -1, random_state = 42)"
   ]
  },
  {
   "cell_type": "code",
   "execution_count": 41,
   "id": "d008ad1f",
   "metadata": {
    "ExecuteTime": {
     "end_time": "2022-07-27T23:42:45.562437Z",
     "start_time": "2022-07-27T23:42:27.833582Z"
    }
   },
   "outputs": [
    {
     "data": {
      "text/html": [
       "<div>\n",
       "<style scoped>\n",
       "    .dataframe tbody tr th:only-of-type {\n",
       "        vertical-align: middle;\n",
       "    }\n",
       "\n",
       "    .dataframe tbody tr th {\n",
       "        vertical-align: top;\n",
       "    }\n",
       "\n",
       "    .dataframe thead th {\n",
       "        text-align: right;\n",
       "    }\n",
       "</style>\n",
       "<table border=\"1\" class=\"dataframe\">\n",
       "  <thead>\n",
       "    <tr style=\"text-align: right;\">\n",
       "      <th></th>\n",
       "      <th>step</th>\n",
       "      <th>amount</th>\n",
       "      <th>oldbalanceOrg</th>\n",
       "      <th>newbalanceOrig</th>\n",
       "      <th>oldbalanceDest</th>\n",
       "      <th>newbalanceDest</th>\n",
       "      <th>bal_diff_orig</th>\n",
       "      <th>bal_diff_dest</th>\n",
       "      <th>typeId</th>\n",
       "      <th>day</th>\n",
       "      <th>...</th>\n",
       "      <th>cos_weekday</th>\n",
       "      <th>Fraud_checkId</th>\n",
       "      <th>hour</th>\n",
       "      <th>amount_tr</th>\n",
       "      <th>oldbalanceOrg_tr</th>\n",
       "      <th>newbalanceOrig_tr</th>\n",
       "      <th>oldbalanceDest_tr</th>\n",
       "      <th>newbalanceDest_tr</th>\n",
       "      <th>bal_diff_orig_tr</th>\n",
       "      <th>bal_diff_dest_tr</th>\n",
       "    </tr>\n",
       "  </thead>\n",
       "  <tbody>\n",
       "    <tr>\n",
       "      <th>0</th>\n",
       "      <td>1</td>\n",
       "      <td>9839.64</td>\n",
       "      <td>170136.00</td>\n",
       "      <td>160296.36</td>\n",
       "      <td>0.00</td>\n",
       "      <td>0.00</td>\n",
       "      <td>9839.64</td>\n",
       "      <td>0.00</td>\n",
       "      <td>0</td>\n",
       "      <td>0</td>\n",
       "      <td>...</td>\n",
       "      <td>1.000000</td>\n",
       "      <td>False</td>\n",
       "      <td>0</td>\n",
       "      <td>-0.969426</td>\n",
       "      <td>0.048516</td>\n",
       "      <td>0.001885</td>\n",
       "      <td>-0.788435</td>\n",
       "      <td>-0.830805</td>\n",
       "      <td>-0.418888</td>\n",
       "      <td>-0.929566</td>\n",
       "    </tr>\n",
       "    <tr>\n",
       "      <th>1</th>\n",
       "      <td>1</td>\n",
       "      <td>1864.28</td>\n",
       "      <td>21249.00</td>\n",
       "      <td>19384.72</td>\n",
       "      <td>0.00</td>\n",
       "      <td>0.00</td>\n",
       "      <td>1864.28</td>\n",
       "      <td>0.00</td>\n",
       "      <td>0</td>\n",
       "      <td>0</td>\n",
       "      <td>...</td>\n",
       "      <td>1.000000</td>\n",
       "      <td>False</td>\n",
       "      <td>0</td>\n",
       "      <td>-1.068082</td>\n",
       "      <td>-0.450014</td>\n",
       "      <td>-0.455200</td>\n",
       "      <td>-0.788435</td>\n",
       "      <td>-0.830805</td>\n",
       "      <td>-0.729994</td>\n",
       "      <td>-0.929566</td>\n",
       "    </tr>\n",
       "    <tr>\n",
       "      <th>2</th>\n",
       "      <td>1</td>\n",
       "      <td>181.00</td>\n",
       "      <td>181.00</td>\n",
       "      <td>0.00</td>\n",
       "      <td>0.00</td>\n",
       "      <td>0.00</td>\n",
       "      <td>181.00</td>\n",
       "      <td>0.00</td>\n",
       "      <td>1</td>\n",
       "      <td>0</td>\n",
       "      <td>...</td>\n",
       "      <td>1.000000</td>\n",
       "      <td>True</td>\n",
       "      <td>0</td>\n",
       "      <td>-1.089268</td>\n",
       "      <td>-0.527806</td>\n",
       "      <td>-0.524019</td>\n",
       "      <td>-0.788435</td>\n",
       "      <td>-0.830805</td>\n",
       "      <td>-0.800624</td>\n",
       "      <td>-0.929566</td>\n",
       "    </tr>\n",
       "    <tr>\n",
       "      <th>3</th>\n",
       "      <td>1</td>\n",
       "      <td>181.00</td>\n",
       "      <td>181.00</td>\n",
       "      <td>0.00</td>\n",
       "      <td>21182.00</td>\n",
       "      <td>0.00</td>\n",
       "      <td>181.00</td>\n",
       "      <td>21182.00</td>\n",
       "      <td>2</td>\n",
       "      <td>0</td>\n",
       "      <td>...</td>\n",
       "      <td>1.000000</td>\n",
       "      <td>True</td>\n",
       "      <td>0</td>\n",
       "      <td>-1.089268</td>\n",
       "      <td>-0.527806</td>\n",
       "      <td>-0.524019</td>\n",
       "      <td>-0.745493</td>\n",
       "      <td>-0.830805</td>\n",
       "      <td>-0.800624</td>\n",
       "      <td>-0.698512</td>\n",
       "    </tr>\n",
       "    <tr>\n",
       "      <th>4</th>\n",
       "      <td>1</td>\n",
       "      <td>11668.14</td>\n",
       "      <td>41554.00</td>\n",
       "      <td>29885.86</td>\n",
       "      <td>0.00</td>\n",
       "      <td>0.00</td>\n",
       "      <td>11668.14</td>\n",
       "      <td>0.00</td>\n",
       "      <td>0</td>\n",
       "      <td>0</td>\n",
       "      <td>...</td>\n",
       "      <td>1.000000</td>\n",
       "      <td>False</td>\n",
       "      <td>0</td>\n",
       "      <td>-0.947202</td>\n",
       "      <td>-0.376826</td>\n",
       "      <td>-0.418549</td>\n",
       "      <td>-0.788435</td>\n",
       "      <td>-0.830805</td>\n",
       "      <td>-0.352727</td>\n",
       "      <td>-0.929566</td>\n",
       "    </tr>\n",
       "    <tr>\n",
       "      <th>...</th>\n",
       "      <td>...</td>\n",
       "      <td>...</td>\n",
       "      <td>...</td>\n",
       "      <td>...</td>\n",
       "      <td>...</td>\n",
       "      <td>...</td>\n",
       "      <td>...</td>\n",
       "      <td>...</td>\n",
       "      <td>...</td>\n",
       "      <td>...</td>\n",
       "      <td>...</td>\n",
       "      <td>...</td>\n",
       "      <td>...</td>\n",
       "      <td>...</td>\n",
       "      <td>...</td>\n",
       "      <td>...</td>\n",
       "      <td>...</td>\n",
       "      <td>...</td>\n",
       "      <td>...</td>\n",
       "      <td>...</td>\n",
       "      <td>...</td>\n",
       "    </tr>\n",
       "    <tr>\n",
       "      <th>6362615</th>\n",
       "      <td>743</td>\n",
       "      <td>339682.13</td>\n",
       "      <td>339682.13</td>\n",
       "      <td>0.00</td>\n",
       "      <td>0.00</td>\n",
       "      <td>339682.13</td>\n",
       "      <td>339682.13</td>\n",
       "      <td>339682.13</td>\n",
       "      <td>2</td>\n",
       "      <td>30</td>\n",
       "      <td>...</td>\n",
       "      <td>0.997564</td>\n",
       "      <td>True</td>\n",
       "      <td>1</td>\n",
       "      <td>1.390245</td>\n",
       "      <td>0.520406</td>\n",
       "      <td>-0.524019</td>\n",
       "      <td>-0.788435</td>\n",
       "      <td>-0.265937</td>\n",
       "      <td>1.990119</td>\n",
       "      <td>1.364409</td>\n",
       "    </tr>\n",
       "    <tr>\n",
       "      <th>6362616</th>\n",
       "      <td>743</td>\n",
       "      <td>6311409.28</td>\n",
       "      <td>6311409.28</td>\n",
       "      <td>0.00</td>\n",
       "      <td>0.00</td>\n",
       "      <td>0.00</td>\n",
       "      <td>6311409.28</td>\n",
       "      <td>0.00</td>\n",
       "      <td>1</td>\n",
       "      <td>30</td>\n",
       "      <td>...</td>\n",
       "      <td>0.997564</td>\n",
       "      <td>True</td>\n",
       "      <td>1</td>\n",
       "      <td>2.441226</td>\n",
       "      <td>2.719405</td>\n",
       "      <td>-0.524019</td>\n",
       "      <td>-0.788435</td>\n",
       "      <td>-0.830805</td>\n",
       "      <td>2.008086</td>\n",
       "      <td>-0.929566</td>\n",
       "    </tr>\n",
       "    <tr>\n",
       "      <th>6362617</th>\n",
       "      <td>743</td>\n",
       "      <td>6311409.28</td>\n",
       "      <td>6311409.28</td>\n",
       "      <td>0.00</td>\n",
       "      <td>68488.84</td>\n",
       "      <td>6379898.11</td>\n",
       "      <td>6311409.28</td>\n",
       "      <td>6311409.27</td>\n",
       "      <td>2</td>\n",
       "      <td>30</td>\n",
       "      <td>...</td>\n",
       "      <td>0.997564</td>\n",
       "      <td>True</td>\n",
       "      <td>1</td>\n",
       "      <td>2.441226</td>\n",
       "      <td>2.719405</td>\n",
       "      <td>-0.524019</td>\n",
       "      <td>-0.651788</td>\n",
       "      <td>2.154113</td>\n",
       "      <td>2.008086</td>\n",
       "      <td>2.456089</td>\n",
       "    </tr>\n",
       "    <tr>\n",
       "      <th>6362618</th>\n",
       "      <td>743</td>\n",
       "      <td>850002.52</td>\n",
       "      <td>850002.52</td>\n",
       "      <td>0.00</td>\n",
       "      <td>0.00</td>\n",
       "      <td>0.00</td>\n",
       "      <td>850002.52</td>\n",
       "      <td>0.00</td>\n",
       "      <td>1</td>\n",
       "      <td>30</td>\n",
       "      <td>...</td>\n",
       "      <td>0.997564</td>\n",
       "      <td>True</td>\n",
       "      <td>1</td>\n",
       "      <td>2.269756</td>\n",
       "      <td>1.490945</td>\n",
       "      <td>-0.524019</td>\n",
       "      <td>-0.788435</td>\n",
       "      <td>-0.830805</td>\n",
       "      <td>2.008074</td>\n",
       "      <td>-0.929566</td>\n",
       "    </tr>\n",
       "    <tr>\n",
       "      <th>6362619</th>\n",
       "      <td>743</td>\n",
       "      <td>850002.52</td>\n",
       "      <td>850002.52</td>\n",
       "      <td>0.00</td>\n",
       "      <td>6510099.11</td>\n",
       "      <td>7360101.63</td>\n",
       "      <td>850002.52</td>\n",
       "      <td>850002.52</td>\n",
       "      <td>2</td>\n",
       "      <td>30</td>\n",
       "      <td>...</td>\n",
       "      <td>0.997564</td>\n",
       "      <td>True</td>\n",
       "      <td>1</td>\n",
       "      <td>2.269756</td>\n",
       "      <td>1.490945</td>\n",
       "      <td>-0.524019</td>\n",
       "      <td>2.193619</td>\n",
       "      <td>2.183815</td>\n",
       "      <td>2.008074</td>\n",
       "      <td>2.255377</td>\n",
       "    </tr>\n",
       "  </tbody>\n",
       "</table>\n",
       "<p>6362620 rows × 24 columns</p>\n",
       "</div>"
      ],
      "text/plain": [
       "         step      amount  oldbalanceOrg  newbalanceOrig  oldbalanceDest  \\\n",
       "0           1     9839.64      170136.00       160296.36            0.00   \n",
       "1           1     1864.28       21249.00        19384.72            0.00   \n",
       "2           1      181.00         181.00            0.00            0.00   \n",
       "3           1      181.00         181.00            0.00        21182.00   \n",
       "4           1    11668.14       41554.00        29885.86            0.00   \n",
       "...       ...         ...            ...             ...             ...   \n",
       "6362615   743   339682.13      339682.13            0.00            0.00   \n",
       "6362616   743  6311409.28     6311409.28            0.00            0.00   \n",
       "6362617   743  6311409.28     6311409.28            0.00        68488.84   \n",
       "6362618   743   850002.52      850002.52            0.00            0.00   \n",
       "6362619   743   850002.52      850002.52            0.00      6510099.11   \n",
       "\n",
       "         newbalanceDest  bal_diff_orig  bal_diff_dest  typeId  day  ...  \\\n",
       "0                  0.00        9839.64           0.00       0    0  ...   \n",
       "1                  0.00        1864.28           0.00       0    0  ...   \n",
       "2                  0.00         181.00           0.00       1    0  ...   \n",
       "3                  0.00         181.00       21182.00       2    0  ...   \n",
       "4                  0.00       11668.14           0.00       0    0  ...   \n",
       "...                 ...            ...            ...     ...  ...  ...   \n",
       "6362615       339682.13      339682.13      339682.13       2   30  ...   \n",
       "6362616            0.00     6311409.28           0.00       1   30  ...   \n",
       "6362617      6379898.11     6311409.28     6311409.27       2   30  ...   \n",
       "6362618            0.00      850002.52           0.00       1   30  ...   \n",
       "6362619      7360101.63      850002.52      850002.52       2   30  ...   \n",
       "\n",
       "         cos_weekday  Fraud_checkId  hour  amount_tr  oldbalanceOrg_tr  \\\n",
       "0           1.000000          False     0  -0.969426          0.048516   \n",
       "1           1.000000          False     0  -1.068082         -0.450014   \n",
       "2           1.000000           True     0  -1.089268         -0.527806   \n",
       "3           1.000000           True     0  -1.089268         -0.527806   \n",
       "4           1.000000          False     0  -0.947202         -0.376826   \n",
       "...              ...            ...   ...        ...               ...   \n",
       "6362615     0.997564           True     1   1.390245          0.520406   \n",
       "6362616     0.997564           True     1   2.441226          2.719405   \n",
       "6362617     0.997564           True     1   2.441226          2.719405   \n",
       "6362618     0.997564           True     1   2.269756          1.490945   \n",
       "6362619     0.997564           True     1   2.269756          1.490945   \n",
       "\n",
       "         newbalanceOrig_tr  oldbalanceDest_tr  newbalanceDest_tr  \\\n",
       "0                 0.001885          -0.788435          -0.830805   \n",
       "1                -0.455200          -0.788435          -0.830805   \n",
       "2                -0.524019          -0.788435          -0.830805   \n",
       "3                -0.524019          -0.745493          -0.830805   \n",
       "4                -0.418549          -0.788435          -0.830805   \n",
       "...                    ...                ...                ...   \n",
       "6362615          -0.524019          -0.788435          -0.265937   \n",
       "6362616          -0.524019          -0.788435          -0.830805   \n",
       "6362617          -0.524019          -0.651788           2.154113   \n",
       "6362618          -0.524019          -0.788435          -0.830805   \n",
       "6362619          -0.524019           2.193619           2.183815   \n",
       "\n",
       "         bal_diff_orig_tr  bal_diff_dest_tr  \n",
       "0               -0.418888         -0.929566  \n",
       "1               -0.729994         -0.929566  \n",
       "2               -0.800624         -0.929566  \n",
       "3               -0.800624         -0.698512  \n",
       "4               -0.352727         -0.929566  \n",
       "...                   ...               ...  \n",
       "6362615          1.990119          1.364409  \n",
       "6362616          2.008086         -0.929566  \n",
       "6362617          2.008086          2.456089  \n",
       "6362618          2.008074         -0.929566  \n",
       "6362619          2.008074          2.255377  \n",
       "\n",
       "[6362620 rows x 24 columns]"
      ]
     },
     "execution_count": 41,
     "metadata": {},
     "output_type": "execute_result"
    }
   ],
   "source": [
    "new_df"
   ]
  },
  {
   "cell_type": "code",
   "execution_count": 47,
   "id": "fb8b9cb9",
   "metadata": {
    "ExecuteTime": {
     "end_time": "2022-07-27T23:53:14.765309Z",
     "start_time": "2022-07-27T23:53:14.359137Z"
    }
   },
   "outputs": [
    {
     "name": "stdout",
     "output_type": "stream",
     "text": [
      "X Shape: (6362620, 12)\n",
      "y Shape: (6362620,)\n"
     ]
    }
   ],
   "source": [
    "# Data Split for Predictors and Target\n",
    "X = new_df.drop(['Fraud_checkId','amount_tr', 'oldbalanceOrg_tr', 'newbalanceOrig_tr','oldbalanceDest_tr', \n",
    "                 'newbalanceDest_tr','bal_diff_dest','sin_weekday','cos_weekday','hour','bal_diff_orig_tr',\n",
    "                 'bal_diff_dest_tr'], axis = 1)\n",
    "y = new_df['Fraud_checkId']\n",
    "\n",
    "print('X Shape:', X.shape)\n",
    "print('y Shape:', y.shape)"
   ]
  },
  {
   "cell_type": "code",
   "execution_count": 46,
   "id": "6fdc0562",
   "metadata": {
    "ExecuteTime": {
     "end_time": "2022-07-27T23:46:46.509756Z",
     "start_time": "2022-07-27T23:46:46.478975Z"
    }
   },
   "outputs": [
    {
     "data": {
      "text/plain": [
       "Index(['step', 'amount', 'oldbalanceOrg', 'newbalanceOrig', 'oldbalanceDest',\n",
       "       'newbalanceDest', 'bal_diff_orig', 'bal_diff_dest', 'typeId', 'day',\n",
       "       'weekday', 'sin_hour', 'cos_hour', 'sin_weekday', 'cos_weekday', 'hour',\n",
       "       'bal_diff_orig_tr', 'bal_diff_dest_tr'],\n",
       "      dtype='object')"
      ]
     },
     "execution_count": 46,
     "metadata": {},
     "output_type": "execute_result"
    }
   ],
   "source": [
    "X.columns"
   ]
  },
  {
   "cell_type": "code",
   "execution_count": 48,
   "id": "ea2a4d4b",
   "metadata": {
    "ExecuteTime": {
     "end_time": "2022-07-27T23:56:41.520139Z",
     "start_time": "2022-07-27T23:53:23.864787Z"
    }
   },
   "outputs": [],
   "source": [
    "XGB_class.fit(X, y)\n",
    "y_pred = XGB_class.predict(X)\n",
    "y_prob= XGB_class.predict_proba(X)"
   ]
  },
  {
   "cell_type": "code",
   "execution_count": 49,
   "id": "9d6845bb",
   "metadata": {
    "ExecuteTime": {
     "end_time": "2022-07-27T23:56:51.426207Z",
     "start_time": "2022-07-27T23:56:47.447358Z"
    }
   },
   "outputs": [
    {
     "name": "stdout",
     "output_type": "stream",
     "text": [
      "Accuracy Score: 1.0\n"
     ]
    }
   ],
   "source": [
    "print('Accuracy Score:', np.round(XGB_class.score(X, y), decimals = 3))"
   ]
  },
  {
   "cell_type": "code",
   "execution_count": 56,
   "id": "7d4a1c0c",
   "metadata": {
    "ExecuteTime": {
     "end_time": "2022-07-27T23:59:22.339040Z",
     "start_time": "2022-07-27T23:59:05.365211Z"
    }
   },
   "outputs": [
    {
     "name": "stdout",
     "output_type": "stream",
     "text": [
      "              precision    recall  f1-score   support\n",
      "\n",
      "       False       1.00      1.00      1.00   6354472\n",
      "        True       0.99      0.89      0.94      8148\n",
      "\n",
      "    accuracy                           1.00   6362620\n",
      "   macro avg       0.99      0.95      0.97   6362620\n",
      "weighted avg       1.00      1.00      1.00   6362620\n",
      "\n",
      "No Skill: ROC AUC=0.500\n",
      "Random Forest Classifier: ROC AUC=1.000\n"
     ]
    },
    {
     "data": {
      "image/png": "[encoded data removed]",
      "text/plain": [
       "<Figure size 432x288 with 1 Axes>"
      ]
     },
     "metadata": {
      "needs_background": "light"
     },
     "output_type": "display_data"
    },
    {
     "name": "stdout",
     "output_type": "stream",
     "text": [
      "Confusion Matrix \n",
      " [[6354370     102]\n",
      " [    860    7288]]\n"
     ]
    },
    {
     "data": {
      "image/png": "[encoded data removed]",
      "text/plain": [
       "<Figure size 432x288 with 2 Axes>"
      ]
     },
     "metadata": {
      "needs_background": "light"
     },
     "output_type": "display_data"
    }
   ],
   "source": [
    "base_XGB_class = classification_report(y, y_pred)\n",
    "print(base_XGB_class)\n",
    "\n",
    "#plt.figure(figsize = [10, 8])\n",
    "#PRCurve(model = XGB_class)\n",
    "#plt.show()\n",
    "\n",
    "#Plot ROC CURVE\n",
    "# generate a no skill prediction (majority class)\n",
    "ns_probs = [0 for _ in range(len(y))]\n",
    "# keep probabilities for the positive outcome only\n",
    "y_prob1 = y_prob[:, 1]\n",
    "# calculate scores\n",
    "ns_auc = roc_auc_score(y, ns_probs)\n",
    "xgb_auc = roc_auc_score(y, y_prob1)\n",
    "# summarize scores\n",
    "print('No Skill: ROC AUC=%.3f' % (ns_auc))\n",
    "print('Random Forest Classifier: ROC AUC=%.3f' % (xgb_auc))\n",
    "# calculate roc curves\n",
    "ns_fpr, ns_tpr, _ = roc_curve(y, ns_probs)\n",
    "xgb_fpr, xgb_tpr, _ = roc_curve(y, y_prob1)\n",
    "# plot the roc curve for the model\n",
    "pyplot.plot(ns_fpr, ns_tpr, linestyle='--', label='No Skill')\n",
    "pyplot.plot(xgb_fpr, xgb_tpr, marker='.', label='XGBClassifier')\n",
    "# axis labels\n",
    "pyplot.xlabel('False Positive Rate')\n",
    "pyplot.ylabel('True Positive Rate')\n",
    "# show the legend\n",
    "pyplot.legend()\n",
    "# show the plot\n",
    "pyplot.show()\n",
    "\n",
    "#confusion Matrix\n",
    "conf_matrix= metrics.confusion_matrix(y, y_pred)\n",
    "print('Confusion Matrix \\n', conf_matrix)\n",
    "\n",
    "ax = sns.heatmap(conf_matrix/np.sum(conf_matrix), annot=True, \n",
    "            fmt='.2%', cmap='Blues')\n",
    "\n",
    "ax.set_title('Seaborn Confusion Matrix with labels\\n\\n');\n",
    "ax.set_xlabel('\\nPredicted Values')\n",
    "ax.set_ylabel('Actual Values ');\n",
    "\n",
    "## Ticket labels - List must be in alphabetical order\n",
    "ax.xaxis.set_ticklabels(['False','True'])\n",
    "ax.yaxis.set_ticklabels(['False','True'])\n",
    "\n",
    "## Display the visualization of the Confusion Matrix.\n",
    "plt.show()"
   ]
  },
  {
   "cell_type": "code",
   "execution_count": 51,
   "id": "b0a6cd22",
   "metadata": {
    "ExecuteTime": {
     "end_time": "2022-07-27T23:58:06.007832Z",
     "start_time": "2022-07-27T23:58:05.991841Z"
    }
   },
   "outputs": [],
   "source": [
    "Accuracy_final=[]\n",
    "Precision_final=[]\n",
    "Recall_final=[]\n",
    "Fscore_final=[]\n",
    "logloss_final=[]\n",
    "hamming_loss_final=[]"
   ]
  },
  {
   "cell_type": "code",
   "execution_count": 52,
   "id": "f648524c",
   "metadata": {
    "ExecuteTime": {
     "end_time": "2022-07-27T23:58:28.870305Z",
     "start_time": "2022-07-27T23:58:09.775866Z"
    }
   },
   "outputs": [],
   "source": [
    "#Report save\n",
    "#Accuracy\n",
    "Accuracy_final.append(metrics.accuracy_score(y, y_pred) * 100)\n",
    "#Precision\n",
    "# Precision = TP / (TP + FP) (Where TP = True Positive, TN = True Negative, FP = False Positive, FN = False Negative).\n",
    "Precision_final.append(precision_score(y, y_pred, pos_label=1))\n",
    "#Recall\n",
    "# Recall = TP / (TP + FN)\n",
    "Recall_final.append(recall_score(y, y_pred, pos_label=1))\n",
    "#f1-score\n",
    "# F - scores are a statistical method for determining accuracy accounting for both precision and recall.\n",
    "Fscore_final.append(f1_score(y, y_pred, pos_label=1))\n",
    "#logloss\n",
    "logloss_final.append(multiclass_logloss(y, y_prob))\n",
    "#hammingloss\n",
    "hamming_loss_final.append(metrics.hamming_loss(y, y_pred))"
   ]
  },
  {
   "cell_type": "code",
   "execution_count": 53,
   "id": "773724a6",
   "metadata": {
    "ExecuteTime": {
     "end_time": "2022-07-27T23:58:47.839948Z",
     "start_time": "2022-07-27T23:58:47.791954Z"
    }
   },
   "outputs": [],
   "source": [
    "result_df_scale_9= pd.DataFrame(Accuracy_final, index= ['XGB Classifier'], \n",
    "                              columns=['Accuracy']) \n",
    "result_df_scale_10= pd.DataFrame(Precision_final, index= ['XGB Classifier'], \n",
    "                              columns=['Precision'])\n",
    "result_df_scale_11= pd.DataFrame(Recall_final, index= ['XGB Classifier'], \n",
    "                              columns=['Recall'])\n",
    "result_df_scale_12= pd.DataFrame(Fscore_final, index= ['XGB Classifier'], \n",
    "                              columns=['F_score'])\n",
    "result_df_scale_13= pd.DataFrame(logloss_final, index= ['XGB Classifier'], \n",
    "                              columns=['log-loss'])\n",
    "result_df_scale_14= pd.DataFrame(hamming_loss_final, index= ['XGB Classifier'], \n",
    "                              columns=['Hamming_loss'])"
   ]
  },
  {
   "cell_type": "code",
   "execution_count": 54,
   "id": "e8116669",
   "metadata": {
    "ExecuteTime": {
     "end_time": "2022-07-27T23:58:50.295931Z",
     "start_time": "2022-07-27T23:58:50.287933Z"
    }
   },
   "outputs": [],
   "source": [
    "Model_scale_3 = pd.concat([result_df_scale_9, result_df_scale_10, result_df_scale_11,\n",
    "                           result_df_scale_12, result_df_scale_13, result_df_scale_14], axis=1)"
   ]
  },
  {
   "cell_type": "code",
   "execution_count": 55,
   "id": "f7f6475f",
   "metadata": {
    "ExecuteTime": {
     "end_time": "2022-07-27T23:58:53.234628Z",
     "start_time": "2022-07-27T23:58:53.210641Z"
    }
   },
   "outputs": [
    {
     "data": {
      "text/html": [
       "<div>\n",
       "<style scoped>\n",
       "    .dataframe tbody tr th:only-of-type {\n",
       "        vertical-align: middle;\n",
       "    }\n",
       "\n",
       "    .dataframe tbody tr th {\n",
       "        vertical-align: top;\n",
       "    }\n",
       "\n",
       "    .dataframe thead th {\n",
       "        text-align: right;\n",
       "    }\n",
       "</style>\n",
       "<table border=\"1\" class=\"dataframe\">\n",
       "  <thead>\n",
       "    <tr style=\"text-align: right;\">\n",
       "      <th></th>\n",
       "      <th>Accuracy</th>\n",
       "      <th>Precision</th>\n",
       "      <th>Recall</th>\n",
       "      <th>F_score</th>\n",
       "      <th>log-loss</th>\n",
       "      <th>Hamming_loss</th>\n",
       "    </tr>\n",
       "  </thead>\n",
       "  <tbody>\n",
       "    <tr>\n",
       "      <th>XGB Classifier</th>\n",
       "      <td>99.98488</td>\n",
       "      <td>0.986198</td>\n",
       "      <td>0.894453</td>\n",
       "      <td>0.938087</td>\n",
       "      <td>0.007295</td>\n",
       "      <td>0.000151</td>\n",
       "    </tr>\n",
       "  </tbody>\n",
       "</table>\n",
       "</div>"
      ],
      "text/plain": [
       "                Accuracy  Precision    Recall   F_score  log-loss  \\\n",
       "XGB Classifier  99.98488   0.986198  0.894453  0.938087  0.007295   \n",
       "\n",
       "                Hamming_loss  \n",
       "XGB Classifier      0.000151  "
      ]
     },
     "execution_count": 55,
     "metadata": {},
     "output_type": "execute_result"
    }
   ],
   "source": [
    "Model_scale_3"
   ]
  },
  {
   "cell_type": "code",
   "execution_count": 57,
   "id": "1a3fbd06",
   "metadata": {
    "ExecuteTime": {
     "end_time": "2022-07-27T23:59:37.574972Z",
     "start_time": "2022-07-27T23:59:37.399428Z"
    }
   },
   "outputs": [
    {
     "data": {
      "image/png": "[encoded data removed]",
      "text/plain": [
       "<Figure size 1008x648 with 1 Axes>"
      ]
     },
     "metadata": {
      "needs_background": "light"
     },
     "output_type": "display_data"
    }
   ],
   "source": [
    "fig = plt.figure(figsize = (14, 9))\n",
    "ax = fig.add_subplot(111)\n",
    "\n",
    "colours = plt.cm.Set1(np.linspace(0, 1, 9))\n",
    "\n",
    "ax = plot_importance(XGB_class, height = 1, color = colours, grid = False, \\\n",
    "                     show_values = False, importance_type = 'cover', ax = ax, max_num_features=6);\n",
    "for axis in ['top','bottom','left','right']:\n",
    "            ax.spines[axis].set_linewidth(2)\n",
    "        \n",
    "ax.set_xlabel('importance score', size = 16);\n",
    "ax.set_ylabel('features', size = 16);\n",
    "ax.set_yticklabels(ax.get_yticklabels(), size = 12);\n",
    "ax.set_title('Ordering of features by importance to the model learnt', size = 20);"
   ]
  },
  {
   "cell_type": "markdown",
   "id": "1e4c2047",
   "metadata": {},
   "source": [
    "#### Inference:\n",
    "- The figure shows that the new feature bal_diff_orig, bal_diff_dest, errorBalanceOrig that we created is the most relevant feature for the model. The features are ordered based on the number of samples affected by splits on those features."
   ]
  },
  {
   "cell_type": "markdown",
   "id": "bb65b2fb",
   "metadata": {},
   "source": [
    "# Deployment\n",
    "## Saving Model (and anything else as pickle file)"
   ]
  },
  {
   "cell_type": "code",
   "execution_count": 58,
   "id": "a7593d93",
   "metadata": {
    "ExecuteTime": {
     "end_time": "2022-07-27T23:59:54.300112Z",
     "start_time": "2022-07-27T23:59:54.260136Z"
    }
   },
   "outputs": [],
   "source": [
    "from joblib import dump, load\n",
    "import joblib"
   ]
  },
  {
   "cell_type": "code",
   "execution_count": 59,
   "id": "a835f1be",
   "metadata": {
    "ExecuteTime": {
     "end_time": "2022-07-28T00:00:35.127988Z",
     "start_time": "2022-07-28T00:00:34.935881Z"
    }
   },
   "outputs": [
    {
     "data": {
      "text/plain": [
       "['fraudpredmodel.pkl']"
      ]
     },
     "execution_count": 59,
     "metadata": {},
     "output_type": "execute_result"
    }
   ],
   "source": [
    "joblib.dump(XGB_class, 'fraudpredmodel.pkl') "
   ]
  },
  {
   "cell_type": "code",
   "execution_count": 60,
   "id": "46989d2a",
   "metadata": {
    "ExecuteTime": {
     "end_time": "2022-07-28T00:00:37.860719Z",
     "start_time": "2022-07-28T00:00:37.845357Z"
    }
   },
   "outputs": [
    {
     "data": {
      "text/plain": [
       "Index(['step', 'amount', 'oldbalanceOrg', 'newbalanceOrig', 'oldbalanceDest',\n",
       "       'newbalanceDest', 'bal_diff_orig', 'typeId', 'day', 'weekday',\n",
       "       'sin_hour', 'cos_hour'],\n",
       "      dtype='object')"
      ]
     },
     "execution_count": 60,
     "metadata": {},
     "output_type": "execute_result"
    }
   ],
   "source": [
    "X.columns"
   ]
  },
  {
   "cell_type": "code",
   "execution_count": 61,
   "id": "ac4f316f",
   "metadata": {
    "ExecuteTime": {
     "end_time": "2022-07-28T00:00:42.112402Z",
     "start_time": "2022-07-28T00:00:42.104400Z"
    }
   },
   "outputs": [
    {
     "data": {
      "text/plain": [
       "['step',\n",
       " 'amount',\n",
       " 'oldbalanceOrg',\n",
       " 'newbalanceOrig',\n",
       " 'oldbalanceDest',\n",
       " 'newbalanceDest',\n",
       " 'bal_diff_orig',\n",
       " 'typeId',\n",
       " 'day',\n",
       " 'weekday',\n",
       " 'sin_hour',\n",
       " 'cos_hour']"
      ]
     },
     "execution_count": 61,
     "metadata": {},
     "output_type": "execute_result"
    }
   ],
   "source": [
    "list(X.columns)"
   ]
  },
  {
   "cell_type": "code",
   "execution_count": 62,
   "id": "06d10574",
   "metadata": {
    "ExecuteTime": {
     "end_time": "2022-07-28T00:01:06.545378Z",
     "start_time": "2022-07-28T00:01:06.521394Z"
    }
   },
   "outputs": [
    {
     "data": {
      "text/plain": [
       "['fraudcolumn_names.pkl']"
      ]
     },
     "execution_count": 62,
     "metadata": {},
     "output_type": "execute_result"
    }
   ],
   "source": [
    "joblib.dump(list(X.columns),'fraudcolumn_names.pkl')"
   ]
  },
  {
   "cell_type": "markdown",
   "id": "ef1a5f97",
   "metadata": {},
   "source": [
    "## Conclusion & Recommendation\n",
    "\n",
    "- We have seen the importance of all features(bal_diff_orig, bal_diff_dest, step, errorBalanceOrig, newbalanceOrig, type) and we have removed un important features like(nameOrig, nameDest, isFlaggedFraud).\n",
    "- We have generated 5 more features i.e. bal_diff_orig, bal_diff_dest, errorBalanceOrig, errorBalanceDest and diff_category from which bal_diff_orig, bal_diff_dest & errorBalanceOrig were potential features to identify fraud transaction.\n",
    "- To deal with the large skewed data, we chose an appropriate procedure i.e. manually dropped records of sender's data containing 0s on both before and after balances and replacing -1 for receiver side identifying that amount was transfered but still showing 0 balances before and after transaction.\n",
    "- To deal with the imbalanced data we have used Min Max Scaler & Box Cox Transformation and then performed the model building.\n",
    "- We developed different machine learning algorithms i.e. Random Forest Classifier, XGB Classifier and Ada Boost Classifier modeling.\n",
    "- XGB Classifier outperformed all the models achieving almost perfect F1-Score with good log-loss and hamming-loss. We have verified the result with confusion matrix plot."
   ]
  },
  {
   "cell_type": "markdown",
   "id": "aa5ac093",
   "metadata": {},
   "source": [
    "# With this our Part 2 is ended next we will work on deployment."
   ]
  }
 ],
 "metadata": {
  "kernelspec": {
   "display_name": "Python 3 (ipykernel)",
   "language": "python",
   "name": "python3"
  },
  "language_info": {
   "codemirror_mode": {
    "name": "ipython",
    "version": 3
   },
   "file_extension": ".py",
   "mimetype": "text/x-python",
   "name": "python",
   "nbconvert_exporter": "python",
   "pygments_lexer": "ipython3",
   "version": "3.9.12"
  }
 },
 "nbformat": 4,
 "nbformat_minor": 5
}
