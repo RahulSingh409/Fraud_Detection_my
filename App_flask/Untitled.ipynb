{
 "cells": [
  {
   "cell_type": "code",
   "execution_count": null,
   "id": "8bf76f26",
   "metadata": {},
   "outputs": [],
   "source": [
    "import numpy as np\n",
    "import pickle\n",
    "from flask import Flask, request, render_template\n",
    "\n",
    "app = Flask(__name__)\n",
    "model = pickle.load(open(\"model.pkl\", 'rb'))\n",
    "\n",
    "\n",
    "@app.route('/')\n",
    "def index():\n",
    "    return render_template(\n",
    "        'index.html',\n",
    "        data=[{'typeid': \"Type\"}, {'typeid': \"CASH_IN\"}, {'typeid': \"CASH_OUT\"}, {'typeid': \"DEBIT\"},\n",
    "               {'typeid': 'PAYMENT'}, {'typeid': \"TRANSFER\"}])\n",
    "\n",
    "\n",
    "@app.route(\"/predict\", methods=['GET', 'POST'])\n",
    "def predict():\n",
    "    input_data = list(request.form.values())\n",
    "    if int(input_data[0]) & int(input_data[3]) & input_data[2].isdigit() == True:\n",
    "        pass\n",
    "    else:\n",
    "        print(ValueError)\n",
    "\n",
    "    if input_data[5] == 'CASH_IN':\n",
    "        input_data[5] = 0\n",
    "    elif input_data[5] == 'CASH_OUT':\n",
    "        input_data[5] = 1\n",
    "    elif input_data[5] == 'DEBIT':\n",
    "        input_data[5] = 2\n",
    "    elif input_data[5] == 'PAYMENT':\n",
    "        input_data[5] = 3\n",
    "    elif input_data[5] == 'TRANSFER':\n",
    "        input_data[5] = 4    \n",
    "    else:\n",
    "        print(ValueError)\n",
    "\n",
    "    input_values = [x for x in input_data]\n",
    "    arr_val = [np.array(input_values).reshape(1,-1)]\n",
    "    prediction = model.predict(arr_val)\n",
    "    \n",
    "    if prediction == 0:\n",
    "        output =[\"Not_Fraud\"]\n",
    "    else:\n",
    "        output =[\"Fraud\"]\n",
    "    \n",
    "    return render_template('index.html', prediction_text=\" The predicted transaction is {}\".format(output),\n",
    "                           data=[{'typeid': \"Type\"}, {'typeid': \"CASH_IN\"}, {'typeid': \"CASH_OUT\"}, {'typeid': \"DEBIT\"},\n",
    "                                 {'typeid': 'PAYMENT'}, {'typeid': \"TRANSFER\"}]))\n",
    "\n",
    "\n",
    "if __name__ == '__main__':\n",
    "    app.run(debug=True)\n"
   ]
  }
 ],
 "metadata": {
  "kernelspec": {
   "display_name": "Python 3 (ipykernel)",
   "language": "python",
   "name": "python3"
  },
  "language_info": {
   "codemirror_mode": {
    "name": "ipython",
    "version": 3
   },
   "file_extension": ".py",
   "mimetype": "text/x-python",
   "name": "python",
   "nbconvert_exporter": "python",
   "pygments_lexer": "ipython3",
   "version": "3.9.12"
  }
 },
 "nbformat": 4,
 "nbformat_minor": 5
}
